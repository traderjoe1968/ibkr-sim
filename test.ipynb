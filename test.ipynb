{
 "cells": [
  {
   "cell_type": "markdown",
   "metadata": {},
   "source": [
    "# Testing"
   ]
  },
  {
   "cell_type": "code",
   "execution_count": 1,
   "metadata": {},
   "outputs": [
    {
     "name": "stdout",
     "output_type": "stream",
     "text": [
      "['Event', 'util', 'Client', 'Bag', 'Bond', 'CFD', 'ComboLeg', 'Commodity', 'ContFuture', 'Contract', 'ContractDescription', 'ContractDetails', 'Crypto', 'DeltaNeutralContract', 'Forex', 'Future', 'FuturesOption', 'Index', 'MutualFund', 'Option', 'ScanData', 'Stock', 'TagValue', 'Warrant', 'FlexError', 'FlexReport', 'IB', 'IBC', 'Watchdog', 'AccountValue', 'BarData', 'BarDataList', 'CommissionReport', 'ConnectionStats', 'DOMLevel', 'DepthMktDataDescription', 'Dividends', 'Execution', 'ExecutionFilter', 'FamilyCode', 'Fill', 'FundamentalRatios', 'HistogramData', 'HistoricalNews', 'HistoricalTick', 'HistoricalTickBidAsk', 'HistoricalTickLast', 'HistoricalSchedule', 'HistoricalSession', 'MktDepthData', 'NewsArticle', 'NewsBulletin', 'NewsProvider', 'NewsTick', 'OptionChain', 'OptionComputation', 'PnL', 'PnLSingle', 'PortfolioItem', 'Position', 'PriceIncrement', 'RealTimeBar', 'RealTimeBarList', 'ScanDataList', 'ScannerSubscription', 'SmartComponent', 'SoftDollarTier', 'TickAttrib', 'TickAttribBidAsk', 'TickAttribLast', 'TickByTickAllLast', 'WshEventData', 'TickByTickBidAsk', 'TickByTickMidPoint', 'TickData', 'TradeLogEntry', 'BracketOrder', 'ExecutionCondition', 'LimitOrder', 'MarginCondition', 'MarketOrder', 'Order', 'OrderComboLeg', 'OrderCondition', 'OrderState', 'OrderStatus', 'PercentChangeCondition', 'PriceCondition', 'StopLimitOrder', 'StopOrder', 'TimeCondition', 'Trade', 'VolumeCondition', 'Ticker', '__version__', '__version_info__', 'RequestError', 'Wrapper']\n"
     ]
    }
   ],
   "source": [
    "import ib_async\n",
    "print(ib_async.__all__)"
   ]
  },
  {
   "cell_type": "markdown",
   "metadata": {},
   "source": [
    "### Importing\n",
    "The following two lines are used at the top of all notebooks. The first line imports everything and the second\n",
    "starts an event loop to keep the notebook live updated:"
   ]
  },
  {
   "cell_type": "code",
   "execution_count": 2,
   "metadata": {},
   "outputs": [],
   "source": [
    "from ib_async import util\n",
    "from ib_async.order import LimitOrder\n",
    "from ibkr.broker.sim_ib import IBSim\n",
    "from ibkr.broker.sim_contract_sim import load_contract\n",
    "from ibkr.broker.sim_contract_sim import load_csv\n",
    "\n",
    "util.startLoop()"
   ]
  },
  {
   "cell_type": "markdown",
   "metadata": {},
   "source": [
    "*Note that startLoop() only works in notebooks, not in regular Python programs.*"
   ]
  },
  {
   "cell_type": "markdown",
   "metadata": {},
   "source": [
    "### Connecting\n",
    "The main player of the whole package is the \"IB\" class. Let's create an IB instance and connect to a running TWS/IBG application:"
   ]
  },
  {
   "cell_type": "code",
   "execution_count": 3,
   "metadata": {
    "scrolled": true
   },
   "outputs": [
    {
     "data": {
      "text/plain": [
       "<IB connected to 127.0.0.1:7497 clientId=10>"
      ]
     },
     "execution_count": 3,
     "metadata": {},
     "output_type": "execute_result"
    },
    {
     "name": "stderr",
     "output_type": "stream",
     "text": [
      "Peer closed connection.\n"
     ]
    }
   ],
   "source": [
    "ib = IBSim()\n",
    "ib.connect('127.0.0.1', 7497, clientId=10)"
   ]
  },
  {
   "cell_type": "code",
   "execution_count": 4,
   "metadata": {},
   "outputs": [
    {
     "data": {
      "text/plain": [
       "[]"
      ]
     },
     "execution_count": 4,
     "metadata": {},
     "output_type": "execute_result"
    }
   ],
   "source": [
    "ib.positions()"
   ]
  },
  {
   "cell_type": "code",
   "execution_count": 8,
   "metadata": {},
   "outputs": [
    {
     "data": {
      "text/plain": [
       "[AccountValue(account='DU1215439', tag='AccountType', value='INDIVIDUAL', currency='', modelCode=''),\n",
       " AccountValue(account='DU1215439', tag='Cushion', value='1', currency='', modelCode=''),\n",
       " AccountValue(account='DU1215439', tag='LookAheadNextChange', value='0', currency='', modelCode=''),\n",
       " AccountValue(account='DU1215439', tag='AccruedCash', value='251', currency='AUD', modelCode=''),\n",
       " AccountValue(account='DU1215439', tag='AvailableFunds', value='102005', currency='AUD', modelCode=''),\n",
       " AccountValue(account='DU1215439', tag='BuyingPower', value='101753', currency='AUD', modelCode=''),\n",
       " AccountValue(account='DU1215439', tag='EquityWithLoanValue', value='102005', currency='AUD', modelCode=''),\n",
       " AccountValue(account='DU1215439', tag='ExcessLiquidity', value='102005', currency='AUD', modelCode=''),\n",
       " AccountValue(account='DU1215439', tag='FullAvailableFunds', value='102005', currency='AUD', modelCode=''),\n",
       " AccountValue(account='DU1215439', tag='FullExcessLiquidity', value='102005', currency='AUD', modelCode=''),\n",
       " AccountValue(account='DU1215439', tag='FullInitMarginReq', value='0', currency='AUD', modelCode=''),\n",
       " AccountValue(account='DU1215439', tag='FullMaintMarginReq', value='0', currency='AUD', modelCode=''),\n",
       " AccountValue(account='DU1215439', tag='GrossPositionValue', value='0', currency='AUD', modelCode=''),\n",
       " AccountValue(account='DU1215439', tag='InitMarginReq', value='0', currency='AUD', modelCode=''),\n",
       " AccountValue(account='DU1215439', tag='LookAheadAvailableFunds', value='102005', currency='AUD', modelCode=''),\n",
       " AccountValue(account='DU1215439', tag='LookAheadExcessLiquidity', value='102005', currency='AUD', modelCode=''),\n",
       " AccountValue(account='DU1215439', tag='LookAheadInitMarginReq', value='0', currency='AUD', modelCode=''),\n",
       " AccountValue(account='DU1215439', tag='LookAheadMaintMarginReq', value='0', currency='AUD', modelCode=''),\n",
       " AccountValue(account='DU1215439', tag='MaintMarginReq', value='0', currency='AUD', modelCode=''),\n",
       " AccountValue(account='DU1215439', tag='NetLiquidation', value='102005', currency='AUD', modelCode=''),\n",
       " AccountValue(account='DU1215439', tag='TotalCashValue', value='101753', currency='AUD', modelCode=''),\n",
       " AccountValue(account='All', tag='Currency', value='AUD', currency='AUD', modelCode=''),\n",
       " AccountValue(account='All', tag='CashBalance', value='100776', currency='AUD', modelCode=''),\n",
       " AccountValue(account='All', tag='TotalCashBalance', value='100776', currency='AUD', modelCode=''),\n",
       " AccountValue(account='All', tag='AccruedCash', value='251', currency='AUD', modelCode=''),\n",
       " AccountValue(account='All', tag='StockMarketValue', value='0', currency='AUD', modelCode=''),\n",
       " AccountValue(account='All', tag='OptionMarketValue', value='0', currency='AUD', modelCode=''),\n",
       " AccountValue(account='All', tag='FutureOptionValue', value='0', currency='AUD', modelCode=''),\n",
       " AccountValue(account='All', tag='FuturesPNL', value='0', currency='AUD', modelCode=''),\n",
       " AccountValue(account='All', tag='NetLiquidationByCurrency', value='101028', currency='AUD', modelCode=''),\n",
       " AccountValue(account='All', tag='UnrealizedPnL', value='0', currency='AUD', modelCode=''),\n",
       " AccountValue(account='All', tag='RealizedPnL', value='0', currency='AUD', modelCode=''),\n",
       " AccountValue(account='All', tag='ExchangeRate', value='1', currency='AUD', modelCode=''),\n",
       " AccountValue(account='All', tag='FundValue', value='0', currency='AUD', modelCode=''),\n",
       " AccountValue(account='All', tag='NetDividend', value='0', currency='AUD', modelCode=''),\n",
       " AccountValue(account='All', tag='MutualFundValue', value='0', currency='AUD', modelCode=''),\n",
       " AccountValue(account='All', tag='MoneyMarketFundValue', value='0', currency='AUD', modelCode=''),\n",
       " AccountValue(account='All', tag='CorporateBondValue', value='0', currency='AUD', modelCode=''),\n",
       " AccountValue(account='All', tag='TBondValue', value='0', currency='AUD', modelCode=''),\n",
       " AccountValue(account='All', tag='TBillValue', value='0', currency='AUD', modelCode=''),\n",
       " AccountValue(account='All', tag='WarrantValue', value='0', currency='AUD', modelCode=''),\n",
       " AccountValue(account='All', tag='FxCashBalance', value='0', currency='AUD', modelCode=''),\n",
       " AccountValue(account='All', tag='AccountOrGroup', value='All', currency='AUD', modelCode=''),\n",
       " AccountValue(account='All', tag='RealCurrency', value='AUD', currency='AUD', modelCode=''),\n",
       " AccountValue(account='All', tag='IssuerOptionValue', value='0', currency='AUD', modelCode=''),\n",
       " AccountValue(account='All', tag='Cryptocurrency', value='0', currency='AUD', modelCode=''),\n",
       " AccountValue(account='All', tag='Currency', value='USD', currency='USD', modelCode=''),\n",
       " AccountValue(account='All', tag='CashBalance', value='638', currency='USD', modelCode=''),\n",
       " AccountValue(account='All', tag='TotalCashBalance', value='638', currency='USD', modelCode=''),\n",
       " AccountValue(account='All', tag='AccruedCash', value='0', currency='USD', modelCode=''),\n",
       " AccountValue(account='All', tag='StockMarketValue', value='0', currency='USD', modelCode=''),\n",
       " AccountValue(account='All', tag='OptionMarketValue', value='0', currency='USD', modelCode=''),\n",
       " AccountValue(account='All', tag='FutureOptionValue', value='0', currency='USD', modelCode=''),\n",
       " AccountValue(account='All', tag='FuturesPNL', value='0', currency='USD', modelCode=''),\n",
       " AccountValue(account='All', tag='NetLiquidationByCurrency', value='638', currency='USD', modelCode=''),\n",
       " AccountValue(account='All', tag='UnrealizedPnL', value='0', currency='USD', modelCode=''),\n",
       " AccountValue(account='All', tag='RealizedPnL', value='0', currency='USD', modelCode=''),\n",
       " AccountValue(account='All', tag='ExchangeRate', value='2', currency='USD', modelCode=''),\n",
       " AccountValue(account='All', tag='FundValue', value='0', currency='USD', modelCode=''),\n",
       " AccountValue(account='All', tag='NetDividend', value='0', currency='USD', modelCode=''),\n",
       " AccountValue(account='All', tag='MutualFundValue', value='0', currency='USD', modelCode=''),\n",
       " AccountValue(account='All', tag='MoneyMarketFundValue', value='0', currency='USD', modelCode=''),\n",
       " AccountValue(account='All', tag='CorporateBondValue', value='0', currency='USD', modelCode=''),\n",
       " AccountValue(account='All', tag='TBondValue', value='0', currency='USD', modelCode=''),\n",
       " AccountValue(account='All', tag='TBillValue', value='0', currency='USD', modelCode=''),\n",
       " AccountValue(account='All', tag='WarrantValue', value='0', currency='USD', modelCode=''),\n",
       " AccountValue(account='All', tag='FxCashBalance', value='0', currency='USD', modelCode=''),\n",
       " AccountValue(account='All', tag='AccountOrGroup', value='All', currency='USD', modelCode=''),\n",
       " AccountValue(account='All', tag='RealCurrency', value='USD', currency='USD', modelCode=''),\n",
       " AccountValue(account='All', tag='IssuerOptionValue', value='0', currency='USD', modelCode=''),\n",
       " AccountValue(account='All', tag='Cryptocurrency', value='0', currency='USD', modelCode=''),\n",
       " AccountValue(account='All', tag='Currency', value='BASE', currency='BASE', modelCode=''),\n",
       " AccountValue(account='All', tag='CashBalance', value='101753', currency='BASE', modelCode=''),\n",
       " AccountValue(account='All', tag='TotalCashBalance', value='101753', currency='BASE', modelCode=''),\n",
       " AccountValue(account='All', tag='AccruedCash', value='251', currency='BASE', modelCode=''),\n",
       " AccountValue(account='All', tag='StockMarketValue', value='0', currency='BASE', modelCode=''),\n",
       " AccountValue(account='All', tag='OptionMarketValue', value='0', currency='BASE', modelCode=''),\n",
       " AccountValue(account='All', tag='FutureOptionValue', value='0', currency='BASE', modelCode=''),\n",
       " AccountValue(account='All', tag='FuturesPNL', value='0', currency='BASE', modelCode=''),\n",
       " AccountValue(account='All', tag='NetLiquidationByCurrency', value='102005', currency='BASE', modelCode=''),\n",
       " AccountValue(account='All', tag='UnrealizedPnL', value='0', currency='BASE', modelCode=''),\n",
       " AccountValue(account='All', tag='RealizedPnL', value='0', currency='BASE', modelCode=''),\n",
       " AccountValue(account='All', tag='ExchangeRate', value='1', currency='BASE', modelCode=''),\n",
       " AccountValue(account='All', tag='FundValue', value='0', currency='BASE', modelCode=''),\n",
       " AccountValue(account='All', tag='NetDividend', value='0', currency='BASE', modelCode=''),\n",
       " AccountValue(account='All', tag='MutualFundValue', value='0', currency='BASE', modelCode=''),\n",
       " AccountValue(account='All', tag='MoneyMarketFundValue', value='0', currency='BASE', modelCode=''),\n",
       " AccountValue(account='All', tag='CorporateBondValue', value='0', currency='BASE', modelCode=''),\n",
       " AccountValue(account='All', tag='TBondValue', value='0', currency='BASE', modelCode=''),\n",
       " AccountValue(account='All', tag='TBillValue', value='0', currency='BASE', modelCode=''),\n",
       " AccountValue(account='All', tag='WarrantValue', value='0', currency='BASE', modelCode=''),\n",
       " AccountValue(account='All', tag='FxCashBalance', value='0', currency='BASE', modelCode=''),\n",
       " AccountValue(account='All', tag='AccountOrGroup', value='All', currency='BASE', modelCode=''),\n",
       " AccountValue(account='All', tag='RealCurrency', value='BASE', currency='BASE', modelCode=''),\n",
       " AccountValue(account='All', tag='IssuerOptionValue', value='0', currency='BASE', modelCode=''),\n",
       " AccountValue(account='All', tag='Cryptocurrency', value='0', currency='BASE', modelCode='')]"
      ]
     },
     "execution_count": 8,
     "metadata": {},
     "output_type": "execute_result"
    }
   ],
   "source": [
    "ib.accountSummary()"
   ]
  },
  {
   "cell_type": "code",
   "execution_count": 6,
   "metadata": {},
   "outputs": [
    {
     "data": {
      "text/plain": [
       "[AccountValue(account='DU1215439', tag='AccountCode', value='DU1215439', currency='', modelCode=''),\n",
       " AccountValue(account='DU1215439', tag='AccountOrGroup', value='DU1215439', currency='AUD', modelCode=''),\n",
       " AccountValue(account='DU1215439', tag='AccountOrGroup', value='DU1215439', currency='BASE', modelCode=''),\n",
       " AccountValue(account='DU1215439', tag='AccountOrGroup', value='DU1215439', currency='USD', modelCode=''),\n",
       " AccountValue(account='DU1215439', tag='AccountReady', value='true', currency='', modelCode=''),\n",
       " AccountValue(account='DU1215439', tag='AccountType', value='INDIVIDUAL', currency='', modelCode=''),\n",
       " AccountValue(account='DU1215439', tag='AccruedCash', value='251', currency='AUD', modelCode=''),\n",
       " AccountValue(account='DU1215439', tag='AccruedCash', value='251', currency='BASE', modelCode=''),\n",
       " AccountValue(account='DU1215439', tag='AccruedCash', value='0', currency='USD', modelCode=''),\n",
       " AccountValue(account='DU1215439', tag='AccruedCash-P', value='0', currency='AUD', modelCode=''),\n",
       " AccountValue(account='DU1215439', tag='AccruedDividend', value='0', currency='AUD', modelCode=''),\n",
       " AccountValue(account='DU1215439', tag='AccruedDividend-P', value='0', currency='AUD', modelCode=''),\n",
       " AccountValue(account='DU1215439', tag='AvailableFunds', value='102005', currency='AUD', modelCode=''),\n",
       " AccountValue(account='DU1215439', tag='AvailableFunds-P', value='0', currency='AUD', modelCode=''),\n",
       " AccountValue(account='DU1215439', tag='Billable', value='0', currency='AUD', modelCode=''),\n",
       " AccountValue(account='DU1215439', tag='Billable-P', value='0', currency='AUD', modelCode=''),\n",
       " AccountValue(account='DU1215439', tag='BuyingPower', value='101753', currency='AUD', modelCode=''),\n",
       " AccountValue(account='DU1215439', tag='CashBalance', value='100776', currency='AUD', modelCode=''),\n",
       " AccountValue(account='DU1215439', tag='CashBalance', value='101753', currency='BASE', modelCode=''),\n",
       " AccountValue(account='DU1215439', tag='CashBalance', value='638', currency='USD', modelCode=''),\n",
       " AccountValue(account='DU1215439', tag='ColumnPrio-P', value='5', currency='', modelCode=''),\n",
       " AccountValue(account='DU1215439', tag='ColumnPrio-S', value='1', currency='', modelCode=''),\n",
       " AccountValue(account='DU1215439', tag='CorporateBondValue', value='0', currency='AUD', modelCode=''),\n",
       " AccountValue(account='DU1215439', tag='CorporateBondValue', value='0', currency='BASE', modelCode=''),\n",
       " AccountValue(account='DU1215439', tag='CorporateBondValue', value='0', currency='USD', modelCode=''),\n",
       " AccountValue(account='DU1215439', tag='Cryptocurrency', value='0', currency='AUD', modelCode=''),\n",
       " AccountValue(account='DU1215439', tag='Cryptocurrency', value='0', currency='BASE', modelCode=''),\n",
       " AccountValue(account='DU1215439', tag='Cryptocurrency', value='0', currency='USD', modelCode=''),\n",
       " AccountValue(account='DU1215439', tag='Currency', value='AUD', currency='AUD', modelCode=''),\n",
       " AccountValue(account='DU1215439', tag='Currency', value='BASE', currency='BASE', modelCode=''),\n",
       " AccountValue(account='DU1215439', tag='Currency', value='USD', currency='USD', modelCode=''),\n",
       " AccountValue(account='DU1215439', tag='Cushion', value='1', currency='', modelCode=''),\n",
       " AccountValue(account='DU1215439', tag='EquityWithLoanValue', value='102005', currency='AUD', modelCode=''),\n",
       " AccountValue(account='DU1215439', tag='EquityWithLoanValue-P', value='0', currency='AUD', modelCode=''),\n",
       " AccountValue(account='DU1215439', tag='ExcessLiquidity', value='102005', currency='AUD', modelCode=''),\n",
       " AccountValue(account='DU1215439', tag='ExcessLiquidity-P', value='0', currency='AUD', modelCode=''),\n",
       " AccountValue(account='DU1215439', tag='ExchangeRate', value='1', currency='AUD', modelCode=''),\n",
       " AccountValue(account='DU1215439', tag='ExchangeRate', value='1', currency='BASE', modelCode=''),\n",
       " AccountValue(account='DU1215439', tag='ExchangeRate', value='2', currency='USD', modelCode=''),\n",
       " AccountValue(account='DU1215439', tag='FullAvailableFunds', value='102005', currency='AUD', modelCode=''),\n",
       " AccountValue(account='DU1215439', tag='FullAvailableFunds-P', value='0', currency='AUD', modelCode=''),\n",
       " AccountValue(account='DU1215439', tag='FullExcessLiquidity', value='102005', currency='AUD', modelCode=''),\n",
       " AccountValue(account='DU1215439', tag='FullExcessLiquidity-P', value='0', currency='AUD', modelCode=''),\n",
       " AccountValue(account='DU1215439', tag='FullInitMarginReq', value='0', currency='AUD', modelCode=''),\n",
       " AccountValue(account='DU1215439', tag='FullInitMarginReq-P', value='0', currency='AUD', modelCode=''),\n",
       " AccountValue(account='DU1215439', tag='FullMaintMarginReq', value='0', currency='AUD', modelCode=''),\n",
       " AccountValue(account='DU1215439', tag='FullMaintMarginReq-P', value='0', currency='AUD', modelCode=''),\n",
       " AccountValue(account='DU1215439', tag='FundValue', value='0', currency='AUD', modelCode=''),\n",
       " AccountValue(account='DU1215439', tag='FundValue', value='0', currency='BASE', modelCode=''),\n",
       " AccountValue(account='DU1215439', tag='FundValue', value='0', currency='USD', modelCode=''),\n",
       " AccountValue(account='DU1215439', tag='FutureOptionValue', value='0', currency='AUD', modelCode=''),\n",
       " AccountValue(account='DU1215439', tag='FutureOptionValue', value='0', currency='BASE', modelCode=''),\n",
       " AccountValue(account='DU1215439', tag='FutureOptionValue', value='0', currency='USD', modelCode=''),\n",
       " AccountValue(account='DU1215439', tag='FuturesPNL', value='0', currency='AUD', modelCode=''),\n",
       " AccountValue(account='DU1215439', tag='FuturesPNL', value='0', currency='BASE', modelCode=''),\n",
       " AccountValue(account='DU1215439', tag='FuturesPNL', value='0', currency='USD', modelCode=''),\n",
       " AccountValue(account='DU1215439', tag='FxCashBalance', value='0', currency='AUD', modelCode=''),\n",
       " AccountValue(account='DU1215439', tag='FxCashBalance', value='0', currency='BASE', modelCode=''),\n",
       " AccountValue(account='DU1215439', tag='FxCashBalance', value='0', currency='USD', modelCode=''),\n",
       " AccountValue(account='DU1215439', tag='GrossPositionValue', value='0', currency='AUD', modelCode=''),\n",
       " AccountValue(account='DU1215439', tag='Guarantee', value='0', currency='AUD', modelCode=''),\n",
       " AccountValue(account='DU1215439', tag='Guarantee-P', value='0', currency='AUD', modelCode=''),\n",
       " AccountValue(account='DU1215439', tag='IndianStockHaircut', value='0', currency='AUD', modelCode=''),\n",
       " AccountValue(account='DU1215439', tag='IndianStockHaircut-P', value='0', currency='AUD', modelCode=''),\n",
       " AccountValue(account='DU1215439', tag='InitMarginReq', value='0', currency='AUD', modelCode=''),\n",
       " AccountValue(account='DU1215439', tag='InitMarginReq-P', value='0', currency='AUD', modelCode=''),\n",
       " AccountValue(account='DU1215439', tag='IssuerOptionValue', value='0', currency='AUD', modelCode=''),\n",
       " AccountValue(account='DU1215439', tag='IssuerOptionValue', value='0', currency='BASE', modelCode=''),\n",
       " AccountValue(account='DU1215439', tag='IssuerOptionValue', value='0', currency='USD', modelCode=''),\n",
       " AccountValue(account='DU1215439', tag='Leverage-S', value='0', currency='', modelCode=''),\n",
       " AccountValue(account='DU1215439', tag='LookAheadAvailableFunds', value='102005', currency='AUD', modelCode=''),\n",
       " AccountValue(account='DU1215439', tag='LookAheadAvailableFunds-P', value='0', currency='AUD', modelCode=''),\n",
       " AccountValue(account='DU1215439', tag='LookAheadExcessLiquidity', value='102005', currency='AUD', modelCode=''),\n",
       " AccountValue(account='DU1215439', tag='LookAheadExcessLiquidity-P', value='0', currency='AUD', modelCode=''),\n",
       " AccountValue(account='DU1215439', tag='LookAheadInitMarginReq', value='0', currency='AUD', modelCode=''),\n",
       " AccountValue(account='DU1215439', tag='LookAheadInitMarginReq-P', value='0', currency='AUD', modelCode=''),\n",
       " AccountValue(account='DU1215439', tag='LookAheadMaintMarginReq', value='0', currency='AUD', modelCode=''),\n",
       " AccountValue(account='DU1215439', tag='LookAheadMaintMarginReq-P', value='0', currency='AUD', modelCode=''),\n",
       " AccountValue(account='DU1215439', tag='LookAheadNextChange', value='0', currency='', modelCode=''),\n",
       " AccountValue(account='DU1215439', tag='MaintMarginReq', value='0', currency='AUD', modelCode=''),\n",
       " AccountValue(account='DU1215439', tag='MaintMarginReq-P', value='0', currency='AUD', modelCode=''),\n",
       " AccountValue(account='DU1215439', tag='MoneyMarketFundValue', value='0', currency='AUD', modelCode=''),\n",
       " AccountValue(account='DU1215439', tag='MoneyMarketFundValue', value='0', currency='BASE', modelCode=''),\n",
       " AccountValue(account='DU1215439', tag='MoneyMarketFundValue', value='0', currency='USD', modelCode=''),\n",
       " AccountValue(account='DU1215439', tag='MutualFundValue', value='0', currency='AUD', modelCode=''),\n",
       " AccountValue(account='DU1215439', tag='MutualFundValue', value='0', currency='BASE', modelCode=''),\n",
       " AccountValue(account='DU1215439', tag='MutualFundValue', value='0', currency='USD', modelCode=''),\n",
       " AccountValue(account='DU1215439', tag='NLVAndMarginInReview', value='false', currency='', modelCode=''),\n",
       " AccountValue(account='DU1215439', tag='NetDividend', value='0', currency='AUD', modelCode=''),\n",
       " AccountValue(account='DU1215439', tag='NetDividend', value='0', currency='BASE', modelCode=''),\n",
       " AccountValue(account='DU1215439', tag='NetDividend', value='0', currency='USD', modelCode=''),\n",
       " AccountValue(account='DU1215439', tag='NetLiquidation', value='102005', currency='AUD', modelCode=''),\n",
       " AccountValue(account='DU1215439', tag='NetLiquidation-P', value='0', currency='AUD', modelCode=''),\n",
       " AccountValue(account='DU1215439', tag='NetLiquidationByCurrency', value='101028', currency='AUD', modelCode=''),\n",
       " AccountValue(account='DU1215439', tag='NetLiquidationByCurrency', value='102005', currency='BASE', modelCode=''),\n",
       " AccountValue(account='DU1215439', tag='NetLiquidationByCurrency', value='638', currency='USD', modelCode=''),\n",
       " AccountValue(account='DU1215439', tag='NetLiquidationUncertainty', value='0', currency='AUD', modelCode=''),\n",
       " AccountValue(account='DU1215439', tag='OptionMarketValue', value='0', currency='AUD', modelCode=''),\n",
       " AccountValue(account='DU1215439', tag='OptionMarketValue', value='0', currency='BASE', modelCode=''),\n",
       " AccountValue(account='DU1215439', tag='OptionMarketValue', value='0', currency='USD', modelCode=''),\n",
       " AccountValue(account='DU1215439', tag='PASharesValue', value='0', currency='AUD', modelCode=''),\n",
       " AccountValue(account='DU1215439', tag='PASharesValue-P', value='0', currency='AUD', modelCode=''),\n",
       " AccountValue(account='DU1215439', tag='PhysicalCertificateValue', value='0', currency='AUD', modelCode=''),\n",
       " AccountValue(account='DU1215439', tag='PhysicalCertificateValue-P', value='0', currency='AUD', modelCode=''),\n",
       " AccountValue(account='DU1215439', tag='PostExpirationExcess', value='0', currency='AUD', modelCode=''),\n",
       " AccountValue(account='DU1215439', tag='PostExpirationExcess-P', value='0', currency='AUD', modelCode=''),\n",
       " AccountValue(account='DU1215439', tag='PostExpirationMargin', value='0', currency='AUD', modelCode=''),\n",
       " AccountValue(account='DU1215439', tag='PostExpirationMargin-P', value='0', currency='AUD', modelCode=''),\n",
       " AccountValue(account='DU1215439', tag='RealCurrency', value='AUD', currency='AUD', modelCode=''),\n",
       " AccountValue(account='DU1215439', tag='RealCurrency', value='BASE', currency='BASE', modelCode=''),\n",
       " AccountValue(account='DU1215439', tag='RealCurrency', value='USD', currency='USD', modelCode=''),\n",
       " AccountValue(account='DU1215439', tag='RealizedPnL', value='0', currency='AUD', modelCode=''),\n",
       " AccountValue(account='DU1215439', tag='RealizedPnL', value='0', currency='BASE', modelCode=''),\n",
       " AccountValue(account='DU1215439', tag='RealizedPnL', value='0', currency='USD', modelCode=''),\n",
       " AccountValue(account='DU1215439', tag='SegmentTitle-P', value='Crypto at Paxos', currency='', modelCode=''),\n",
       " AccountValue(account='DU1215439', tag='SegmentTitle-S', value='CFD', currency='', modelCode=''),\n",
       " AccountValue(account='DU1215439', tag='StockMarketValue', value='0', currency='AUD', modelCode=''),\n",
       " AccountValue(account='DU1215439', tag='StockMarketValue', value='0', currency='BASE', modelCode=''),\n",
       " AccountValue(account='DU1215439', tag='StockMarketValue', value='0', currency='USD', modelCode=''),\n",
       " AccountValue(account='DU1215439', tag='TBillValue', value='0', currency='AUD', modelCode=''),\n",
       " AccountValue(account='DU1215439', tag='TBillValue', value='0', currency='BASE', modelCode=''),\n",
       " AccountValue(account='DU1215439', tag='TBillValue', value='0', currency='USD', modelCode=''),\n",
       " AccountValue(account='DU1215439', tag='TBondValue', value='0', currency='AUD', modelCode=''),\n",
       " AccountValue(account='DU1215439', tag='TBondValue', value='0', currency='BASE', modelCode=''),\n",
       " AccountValue(account='DU1215439', tag='TBondValue', value='0', currency='USD', modelCode=''),\n",
       " AccountValue(account='DU1215439', tag='TotalCashBalance', value='100776', currency='AUD', modelCode=''),\n",
       " AccountValue(account='DU1215439', tag='TotalCashBalance', value='101753', currency='BASE', modelCode=''),\n",
       " AccountValue(account='DU1215439', tag='TotalCashBalance', value='638', currency='USD', modelCode=''),\n",
       " AccountValue(account='DU1215439', tag='TotalCashValue', value='101753', currency='AUD', modelCode=''),\n",
       " AccountValue(account='DU1215439', tag='TotalCashValue-P', value='0', currency='AUD', modelCode=''),\n",
       " AccountValue(account='DU1215439', tag='TotalDebitCardPendingCharges', value='0', currency='AUD', modelCode=''),\n",
       " AccountValue(account='DU1215439', tag='TotalDebitCardPendingCharges-P', value='0', currency='AUD', modelCode=''),\n",
       " AccountValue(account='DU1215439', tag='TradingType-S', value='STKCASH', currency='', modelCode=''),\n",
       " AccountValue(account='DU1215439', tag='UnrealizedPnL', value='0', currency='AUD', modelCode=''),\n",
       " AccountValue(account='DU1215439', tag='UnrealizedPnL', value='0', currency='BASE', modelCode=''),\n",
       " AccountValue(account='DU1215439', tag='UnrealizedPnL', value='0', currency='USD', modelCode=''),\n",
       " AccountValue(account='DU1215439', tag='WarrantValue', value='0', currency='AUD', modelCode=''),\n",
       " AccountValue(account='DU1215439', tag='WarrantValue', value='0', currency='BASE', modelCode=''),\n",
       " AccountValue(account='DU1215439', tag='WarrantValue', value='0', currency='USD', modelCode='')]"
      ]
     },
     "execution_count": 6,
     "metadata": {},
     "output_type": "execute_result"
    }
   ],
   "source": [
    "ib.accountValues()"
   ]
  },
  {
   "cell_type": "code",
   "execution_count": 5,
   "metadata": {},
   "outputs": [
    {
     "data": {
      "text/plain": [
       "[AccountValue(account='DU1215439', tag='NetLiquidationByCurrency', value='102005', currency='BASE', modelCode='')]"
      ]
     },
     "execution_count": 5,
     "metadata": {},
     "output_type": "execute_result"
    }
   ],
   "source": [
    "[v for v in ib.accountValues() if v.tag == 'NetLiquidationByCurrency' and v.currency == 'BASE']"
   ]
  },
  {
   "cell_type": "markdown",
   "metadata": {},
   "source": [
    "### Contracts\n",
    "\n",
    "Contracts can be specified in different ways:\n",
    "* The ibapi way, by creating an empty Contract object and setting its attributes one by one;\n",
    "* By using Contract and giving the attributes as keyword argument;\n",
    "* By using the specialized Stock, Option, Future, Forex, Index, CFD, Commodity,\n",
    "  Bond, FuturesOption, MutualFund or Warrant contracts.\n",
    "\n",
    "Some examples:"
   ]
  },
  {
   "cell_type": "code",
   "execution_count": null,
   "metadata": {},
   "outputs": [],
   "source": [
    "contract = load_contract('ES')\n",
    "ib.qualifyContracts(contract)\n",
    "contract"
   ]
  },
  {
   "cell_type": "code",
   "execution_count": 8,
   "metadata": {},
   "outputs": [],
   "source": [
    "cds = ib.reqContractDetails(contract)"
   ]
  },
  {
   "cell_type": "code",
   "execution_count": 9,
   "metadata": {},
   "outputs": [
    {
     "data": {
      "text/plain": [
       "Contract(secType='STK', conId=756733, symbol='SPY', exchange='ARCA', primaryExchange='ARCA', currency='USD', localSymbol='SPY', tradingClass='SPY')"
      ]
     },
     "execution_count": 9,
     "metadata": {},
     "output_type": "execute_result"
    }
   ],
   "source": [
    "contracts = [cd.contract for cd in cds]\n",
    "\n",
    "contracts[0]"
   ]
  },
  {
   "cell_type": "markdown",
   "metadata": {},
   "source": []
  },
  {
   "cell_type": "code",
   "execution_count": 11,
   "metadata": {},
   "outputs": [
    {
     "name": "stderr",
     "output_type": "stream",
     "text": [
      "2024-04-30 21:01:31,170 ib_async.client DEBUG >>> 87,6,416904,SPX,IND,,0.0,,,CBOE,,USD,SPX,,0,1,TRADES,1\n",
      "2024-04-30 21:01:31,898 ib_async.client DEBUG >>> 90,6\n"
     ]
    },
    {
     "name": "stderr",
     "output_type": "stream",
     "text": [
      "2024-04-30 21:01:31,895 ib_async.client DEBUG <<< 88,6,20040304-14:30:00\n",
      "2024-04-30 21:02:26,945 ib_async.client DEBUG <<< 6,2,EquityWithLoanValue,102005,AUD,DU1215439\n",
      "2024-04-30 21:02:26,953 ib_async.client DEBUG <<< 6,2,NetLiquidation,102005,AUD,DU1215439\n",
      "2024-04-30 21:02:26,958 ib_async.client DEBUG <<< 6,2,TotalCashValue,101753,AUD,DU1215439\n",
      "2024-04-30 21:02:26,965 ib_async.client DEBUG <<< 6,2,BuyingPower,101753,AUD,DU1215439\n",
      "2024-04-30 21:02:26,966 ib_async.client DEBUG <<< 6,2,AvailableFunds,102005,AUD,DU1215439\n",
      "2024-04-30 21:02:26,966 ib_async.client DEBUG <<< 6,2,ExcessLiquidity,102005,AUD,DU1215439\n",
      "2024-04-30 21:02:26,967 ib_async.client DEBUG <<< 6,2,LookAheadAvailableFunds,102005,AUD,DU1215439\n",
      "2024-04-30 21:02:26,967 ib_async.client DEBUG <<< 6,2,LookAheadExcessLiquidity,102005,AUD,DU1215439\n",
      "2024-04-30 21:02:26,967 ib_async.client DEBUG <<< 6,2,FullAvailableFunds,102005,AUD,DU1215439\n",
      "2024-04-30 21:02:26,967 ib_async.client DEBUG <<< 6,2,FullExcessLiquidity,102005,AUD,DU1215439\n",
      "2024-04-30 21:02:26,968 ib_async.client DEBUG <<< 8,1,21:02\n",
      "2024-04-30 21:02:26,968 ib_async.client DEBUG <<< 8,1,21:02\n",
      "2024-04-30 21:02:26,968 ib_async.client DEBUG <<< 73,1,1,DU1215439,,AvailableFunds,102005,AUD\n",
      "2024-04-30 21:02:26,968 ib_async.client DEBUG <<< 73,1,1,DU1215439,,BuyingPower,101753,AUD\n",
      "2024-04-30 21:02:26,968 ib_async.client DEBUG <<< 73,1,1,DU1215439,,EquityWithLoanValue,102005,AUD\n",
      "2024-04-30 21:02:26,969 ib_async.client DEBUG <<< 73,1,1,DU1215439,,ExcessLiquidity,102005,AUD\n",
      "2024-04-30 21:02:26,969 ib_async.client DEBUG <<< 73,1,1,DU1215439,,FullAvailableFunds,102005,AUD\n",
      "2024-04-30 21:02:26,969 ib_async.client DEBUG <<< 73,1,1,DU1215439,,FullExcessLiquidity,102005,AUD\n",
      "2024-04-30 21:02:26,969 ib_async.client DEBUG <<< 73,1,1,DU1215439,,LookAheadAvailableFunds,102005,AUD\n",
      "2024-04-30 21:02:26,969 ib_async.client DEBUG <<< 73,1,1,DU1215439,,LookAheadExcessLiquidity,102005,AUD\n",
      "2024-04-30 21:02:26,969 ib_async.client DEBUG <<< 73,1,1,DU1215439,,NetLiquidation,102005,AUD\n",
      "2024-04-30 21:02:26,970 ib_async.client DEBUG <<< 73,1,1,DU1215439,,TotalCashValue,101753,AUD\n",
      "2024-04-30 21:02:26,970 ib_async.client DEBUG <<< 8,1,21:02\n",
      "2024-04-30 21:02:26,975 ib_async.client DEBUG <<< 6,2,CashBalance,101753,BASE,DU1215439\n",
      "2024-04-30 21:02:26,975 ib_async.client DEBUG <<< 6,2,TotalCashBalance,101753,BASE,DU1215439\n",
      "2024-04-30 21:02:26,976 ib_async.client DEBUG <<< 6,2,NetLiquidationByCurrency,102005,BASE,DU1215439\n",
      "2024-04-30 21:02:26,976 ib_async.client DEBUG <<< 8,1,21:02\n",
      "2024-04-30 21:02:26,980 ib_async.client DEBUG <<< 8,1,21:02\n",
      "2024-04-30 21:02:27,004 ib_async.client DEBUG <<< 73,1,1,DU1215439,,AccountOrGroup,DU1215439,BASE\n",
      "2024-04-30 21:02:27,005 ib_async.client DEBUG <<< 73,1,1,DU1215439,,AccruedCash,251,BASE\n",
      "2024-04-30 21:02:27,005 ib_async.client DEBUG <<< 73,1,1,DU1215439,,CashBalance,101753,BASE\n",
      "2024-04-30 21:02:27,005 ib_async.client DEBUG <<< 73,1,1,DU1215439,,CorporateBondValue,0,BASE\n",
      "2024-04-30 21:02:27,005 ib_async.client DEBUG <<< 73,1,1,DU1215439,,Cryptocurrency,0,BASE\n",
      "2024-04-30 21:02:27,006 ib_async.client DEBUG <<< 73,1,1,DU1215439,,Currency,BASE,BASE\n",
      "2024-04-30 21:02:27,006 ib_async.client DEBUG <<< 73,1,1,DU1215439,,ExchangeRate,1,BASE\n",
      "2024-04-30 21:02:27,006 ib_async.client DEBUG <<< 73,1,1,DU1215439,,FundValue,0,BASE\n",
      "2024-04-30 21:02:27,007 ib_async.client DEBUG <<< 73,1,1,DU1215439,,FutureOptionValue,0,BASE\n",
      "2024-04-30 21:02:27,007 ib_async.client DEBUG <<< 73,1,1,DU1215439,,FuturesPNL,0,BASE\n",
      "2024-04-30 21:02:27,007 ib_async.client DEBUG <<< 73,1,1,DU1215439,,FxCashBalance,0,BASE\n",
      "2024-04-30 21:02:27,008 ib_async.client DEBUG <<< 73,1,1,DU1215439,,IssuerOptionValue,0,BASE\n",
      "2024-04-30 21:02:27,008 ib_async.client DEBUG <<< 73,1,1,DU1215439,,MoneyMarketFundValue,0,BASE\n",
      "2024-04-30 21:02:27,009 ib_async.client DEBUG <<< 73,1,1,DU1215439,,MutualFundValue,0,BASE\n",
      "2024-04-30 21:02:27,009 ib_async.client DEBUG <<< 73,1,1,DU1215439,,NetDividend,0,BASE\n",
      "2024-04-30 21:02:27,009 ib_async.client DEBUG <<< 73,1,1,DU1215439,,NetLiquidationByCurrency,102005,BASE\n",
      "2024-04-30 21:02:27,009 ib_async.client DEBUG <<< 73,1,1,DU1215439,,OptionMarketValue,0,BASE\n",
      "2024-04-30 21:02:27,010 ib_async.client DEBUG <<< 73,1,1,DU1215439,,RealCurrency,BASE,BASE\n",
      "2024-04-30 21:02:27,010 ib_async.client DEBUG <<< 73,1,1,DU1215439,,RealizedPnL,0,BASE\n",
      "2024-04-30 21:02:27,010 ib_async.client DEBUG <<< 73,1,1,DU1215439,,StockMarketValue,0,BASE\n",
      "2024-04-30 21:02:27,011 ib_async.client DEBUG <<< 73,1,1,DU1215439,,TBillValue,0,BASE\n",
      "2024-04-30 21:02:27,011 ib_async.client DEBUG <<< 73,1,1,DU1215439,,TBondValue,0,BASE\n",
      "2024-04-30 21:02:27,012 ib_async.client DEBUG <<< 73,1,1,DU1215439,,TotalCashBalance,101753,BASE\n",
      "2024-04-30 21:02:27,012 ib_async.client DEBUG <<< 73,1,1,DU1215439,,UnrealizedPnL,0,BASE\n",
      "2024-04-30 21:02:27,012 ib_async.client DEBUG <<< 73,1,1,DU1215439,,WarrantValue,0,BASE\n",
      "2024-04-30 21:03:15,975 ib_async.client DEBUG <<< 10,7,EUR,CASH,,0,,IDEALPRO,USD,EUR.USD,EUR.USD,EUR.USD,12087792,0.00005,,ACTIVETIM,AD,ADJUST,ALERT,ALGO,ALLOC,AVGCOST,BASKET,CASHQTY,COND,CONDORDER,DAY,DEACT,DEACTDIS,DEACTEOD,GAT,GTC,GTD,GTT,HID,IOC,LIT,LMT,MIT,MKT,NONALGO,OCA,REL,RELPCTOFS,SCALE,SCALERST,STP,STPLMT,TRAIL,TRAILLIT,TRAILLMT,TRAILMIT,WHATIF,IDEALPRO,1,0,European Monetary Union Euro,,,,,,US/Eastern,20240429:1715-20240430:1700;20240430:1715-20240501:1700;20240501:1715-20240502:1700;20240502:1715-20240503:1700;20240504:CLOSED;20240505:1715-20240506:1700,20240429:1715-20240430:1700;20240430:1715-20240501:1700;20240501:1715-20240502:1700;20240502:1715-20240503:1700;20240504:CLOSED;20240505:1715-20240506:1700,,,0,4,,,3188,,,0.01,0.01,0.01\n",
      "2024-04-30 21:03:15,978 ib_async.client DEBUG <<< 52,1,7\n",
      "2024-04-30 21:03:45,665 ib_async.client DEBUG <<< 5,8,12087792,EUR,CASH,,0,?,,IDEALPRO,USD,EUR.USD,EUR.USD,SELL,20000,LMT,1.07455,0.0,DAY,,DU1215439,O,0,,10,892285174,0,0,0,,892285174.0/DU1215439/100,,,,,,,,,,0,,-1,0,,,,,,2147483647,0,0,0,,3,0,0,,0,0,,0,None,,0,,,,?,0,0,,0,0,,,,,,0,0,0,2147483647,2147483647,,,0,,IB,0,0,,0,0,Inactive,1.7976931348623157E308,1.7976931348623157E308,1.7976931348623157E308,1.7976931348623157E308,1.7976931348623157E308,1.7976931348623157E308,1.7976931348623157E308,1.7976931348623157E308,1.7976931348623157E308,,,,,,0,0,0,None,1.7976931348623157E308,2.07455,1.7976931348623157E308,1.7976931348623157E308,1.7976931348623157E308,1.7976931348623157E308,0,,,,0,1,0,0,0,,,0,,,,,\n",
      "2024-04-30 21:03:45,666 ib_async.client DEBUG <<< 3,8,Inactive,0,20000,0,892285174,0,0,10,,0\n",
      "2024-04-30 21:03:45,667 ib_async.wrapper INFO orderStatus: Trade(contract=Forex('EURUSD', conId=12087792, exchange='IDEALPRO', localSymbol='EUR.USD', tradingClass='EUR.USD'), order=LimitOrder(orderId=8, clientId=10, permId=892285174, action='SELL', totalQuantity=20000.0, lmtPrice=1.07455, auxPrice=0.0), orderStatus=OrderStatus(orderId=8, status='Inactive', filled=0.0, remaining=20000.0, avgFillPrice=0.0, permId=892285174, parentId=0, lastFillPrice=0.0, clientId=10, whyHeld='', mktCapPrice=0.0), fills=[], log=[TradeLogEntry(time=datetime.datetime(2024, 4, 30, 11, 3, 43, 470178, tzinfo=datetime.timezone.utc), status='PendingSubmit', message='', errorCode=0), TradeLogEntry(time=datetime.datetime(2024, 4, 30, 11, 3, 45, 665384, tzinfo=datetime.timezone.utc), status='Inactive', message='', errorCode=0)], advancedError='')\n",
      "2024-04-30 21:03:45,677 ib_async.client DEBUG <<< 4,2,8,201,Order rejected - reason:YOUR ORDER IS NOT ACCEPTED. THERE IS INSUFFICIENT CASH [-20000.00 EUR] IN YOUR ACCOUNT TO OBTAIN THE DESIRED <br>POSITION.,\n",
      "2024-04-30 21:03:45,678 ib_async.wrapper ERROR Error 201, reqId 8: Order rejected - reason:YOUR ORDER IS NOT ACCEPTED. THERE IS INSUFFICIENT CASH [-20000.00 EUR] IN YOUR ACCOUNT TO OBTAIN THE DESIRED <br>POSITION.\n",
      "2024-04-30 21:03:45,678 ib_async.wrapper WARNING Canceled order: Trade(contract=Forex('EURUSD', conId=12087792, exchange='IDEALPRO', localSymbol='EUR.USD', tradingClass='EUR.USD'), order=LimitOrder(orderId=8, clientId=10, permId=892285174, action='SELL', totalQuantity=20000.0, lmtPrice=1.07455, auxPrice=0.0), orderStatus=OrderStatus(orderId=8, status='Cancelled', filled=0.0, remaining=20000.0, avgFillPrice=0.0, permId=892285174, parentId=0, lastFillPrice=0.0, clientId=10, whyHeld='', mktCapPrice=0.0), fills=[], log=[TradeLogEntry(time=datetime.datetime(2024, 4, 30, 11, 3, 43, 470178, tzinfo=datetime.timezone.utc), status='PendingSubmit', message='', errorCode=0), TradeLogEntry(time=datetime.datetime(2024, 4, 30, 11, 3, 45, 665384, tzinfo=datetime.timezone.utc), status='Inactive', message='', errorCode=0), TradeLogEntry(time=datetime.datetime(2024, 4, 30, 11, 3, 45, 677573, tzinfo=datetime.timezone.utc), status='Cancelled', message='Error 201, reqId 8: Order rejected - reason:YOUR ORDER IS NOT ACCEPTED. THERE IS INSUFFICIENT CASH [-20000.00 EUR] IN YOUR ACCOUNT TO OBTAIN THE DESIRED <br>POSITION.', errorCode=201)], advancedError='')\n",
      "2024-04-30 21:03:45,680 ib_async.client DEBUG <<< 5,8,12087792,EUR,CASH,,0,?,,IDEALPRO,USD,EUR.USD,EUR.USD,SELL,20000,LMT,1.07455,0.0,DAY,,DU1215439,O,0,,10,892285174,0,0,0,,892285174.0/DU1215439/100,,,,,,,,,,0,,-1,0,,,,,,2147483647,0,0,0,,3,0,0,,0,0,,0,None,,0,,,,?,0,0,,0,0,,,,,,0,0,0,2147483647,2147483647,,,0,,IB,0,0,,0,0,Inactive,1.7976931348623157E308,1.7976931348623157E308,1.7976931348623157E308,1.7976931348623157E308,1.7976931348623157E308,1.7976931348623157E308,1.7976931348623157E308,1.7976931348623157E308,1.7976931348623157E308,,,,,,0,0,0,None,1.7976931348623157E308,2.07455,1.7976931348623157E308,1.7976931348623157E308,1.7976931348623157E308,1.7976931348623157E308,0,,,,0,1,0,0,0,,,0,,,,,\n",
      "2024-04-30 21:03:45,680 ib_async.client DEBUG <<< 3,8,Inactive,0,20000,0,892285174,0,0,10,,0\n",
      "2024-04-30 21:03:45,680 ib_async.wrapper INFO orderStatus: Trade(contract=Forex('EURUSD', conId=12087792, exchange='IDEALPRO', localSymbol='EUR.USD', tradingClass='EUR.USD'), order=LimitOrder(orderId=8, clientId=10, permId=892285174, action='SELL', totalQuantity=20000.0, lmtPrice=1.07455, auxPrice=0.0), orderStatus=OrderStatus(orderId=8, status='Inactive', filled=0.0, remaining=20000.0, avgFillPrice=0.0, permId=892285174, parentId=0, lastFillPrice=0.0, clientId=10, whyHeld='', mktCapPrice=0.0), fills=[], log=[TradeLogEntry(time=datetime.datetime(2024, 4, 30, 11, 3, 43, 470178, tzinfo=datetime.timezone.utc), status='PendingSubmit', message='', errorCode=0), TradeLogEntry(time=datetime.datetime(2024, 4, 30, 11, 3, 45, 665384, tzinfo=datetime.timezone.utc), status='Inactive', message='', errorCode=0), TradeLogEntry(time=datetime.datetime(2024, 4, 30, 11, 3, 45, 677573, tzinfo=datetime.timezone.utc), status='Cancelled', message='Error 201, reqId 8: Order rejected - reason:YOUR ORDER IS NOT ACCEPTED. THERE IS INSUFFICIENT CASH [-20000.00 EUR] IN YOUR ACCOUNT TO OBTAIN THE DESIRED <br>POSITION.', errorCode=201), TradeLogEntry(time=datetime.datetime(2024, 4, 30, 11, 3, 45, 680092, tzinfo=datetime.timezone.utc), status='Inactive', message='', errorCode=0)], advancedError='')\n",
      "2024-04-30 21:05:01,562 ib_async.client DEBUG <<< 10,9,EUR,CASH,,0,,IDEALPRO,USD,EUR.USD,EUR.USD,EUR.USD,12087792,0.00005,,ACTIVETIM,AD,ADJUST,ALERT,ALGO,ALLOC,AVGCOST,BASKET,CASHQTY,COND,CONDORDER,DAY,DEACT,DEACTDIS,DEACTEOD,GAT,GTC,GTD,GTT,HID,IOC,LIT,LMT,MIT,MKT,NONALGO,OCA,REL,RELPCTOFS,SCALE,SCALERST,STP,STPLMT,TRAIL,TRAILLIT,TRAILLMT,TRAILMIT,WHATIF,IDEALPRO,1,0,European Monetary Union Euro,,,,,,US/Eastern,20240429:1715-20240430:1700;20240430:1715-20240501:1700;20240501:1715-20240502:1700;20240502:1715-20240503:1700;20240504:CLOSED;20240505:1715-20240506:1700,20240429:1715-20240430:1700;20240430:1715-20240501:1700;20240501:1715-20240502:1700;20240502:1715-20240503:1700;20240504:CLOSED;20240505:1715-20240506:1700,,,0,4,,,3188,,,0.01,0.01,0.01\n",
      "2024-04-30 21:05:01,564 ib_async.client DEBUG <<< 52,1,9\n",
      "2024-04-30 21:05:02,701 ib_async.client DEBUG <<< 4,2,10,399,Order Message: SELL 2K EUR.USD Forex Warning: Your order size is below the EUR 20000 IdealPro minimum and will be routed as an odd lot order.,\n",
      "2024-04-30 21:05:02,703 ib_async.wrapper INFO Warning 399, reqId 10: Order Message: SELL 2K EUR.USD Forex Warning: Your order size is below the EUR 20000 IdealPro minimum and will be routed as an odd lot order.\n",
      "2024-04-30 21:05:02,711 ib_async.client DEBUG <<< 5,10,12087792,EUR,CASH,,0,?,,IDEALPRO,USD,EUR.USD,EUR.USD,SELL,2000,LMT,1.07455,0.0,DAY,,DU1215439,,0,,10,892285175,0,0,0,,892285175.0/DU1215439/100,,,,,,,,,,0,,-1,0,,,,,,2147483647,0,0,0,,3,0,0,,0,0,,0,None,,0,,,,?,0,0,,0,0,,,,,,0,0,0,2147483647,2147483647,,,0,,IB,0,0,,0,0,PreSubmitted,1.7976931348623157E308,1.7976931348623157E308,1.7976931348623157E308,1.7976931348623157E308,1.7976931348623157E308,1.7976931348623157E308,1.7976931348623157E308,1.7976931348623157E308,1.7976931348623157E308,,,,,,0,0,0,None,1.7976931348623157E308,2.07455,1.7976931348623157E308,1.7976931348623157E308,1.7976931348623157E308,1.7976931348623157E308,0,,,,0,1,0,0,0,,,0,,,,,\n",
      "2024-04-30 21:05:02,712 ib_async.client DEBUG <<< 3,10,PreSubmitted,0,2000,0,892285175,0,0,10,,0\n",
      "2024-04-30 21:05:02,713 ib_async.wrapper INFO orderStatus: Trade(contract=Forex('EURUSD', conId=12087792, exchange='IDEALPRO', localSymbol='EUR.USD', tradingClass='EUR.USD'), order=LimitOrder(orderId=10, clientId=10, permId=892285175, action='SELL', totalQuantity=2000.0, lmtPrice=1.07455, auxPrice=0.0), orderStatus=OrderStatus(orderId=10, status='PreSubmitted', filled=0.0, remaining=2000.0, avgFillPrice=0.0, permId=892285175, parentId=0, lastFillPrice=0.0, clientId=10, whyHeld='', mktCapPrice=0.0), fills=[], log=[TradeLogEntry(time=datetime.datetime(2024, 4, 30, 11, 5, 2, 273534, tzinfo=datetime.timezone.utc), status='PendingSubmit', message='', errorCode=0), TradeLogEntry(time=datetime.datetime(2024, 4, 30, 11, 5, 2, 711427, tzinfo=datetime.timezone.utc), status='PreSubmitted', message='', errorCode=0)], advancedError='')\n",
      "2024-04-30 21:05:02,719 ib_async.client DEBUG <<< 5,10,12087792,EUR,CASH,,0,?,,IDEALPRO,USD,EUR.USD,EUR.USD,SELL,2000,LMT,1.07455,0.0,DAY,,DU1215439,,0,,10,892285175,0,0,0,,892285175.0/DU1215439/100,,,,,,,,,,0,,-1,0,,,,,,2147483647,0,0,0,,3,0,0,,0,0,,0,None,,0,,,,?,0,0,,0,0,,,,,,0,0,0,2147483647,2147483647,,,0,,IB,0,0,,0,0,Inactive,1.7976931348623157E308,1.7976931348623157E308,1.7976931348623157E308,1.7976931348623157E308,1.7976931348623157E308,1.7976931348623157E308,1.7976931348623157E308,1.7976931348623157E308,1.7976931348623157E308,,,,,,0,0,0,None,1.7976931348623157E308,2.07455,1.7976931348623157E308,1.7976931348623157E308,1.7976931348623157E308,1.7976931348623157E308,0,,,,0,1,0,0,0,,,0,,,,,\n",
      "2024-04-30 21:05:02,720 ib_async.client DEBUG <<< 3,10,Inactive,0,2000,0,892285175,0,0,10,,0\n",
      "2024-04-30 21:05:02,721 ib_async.wrapper INFO orderStatus: Trade(contract=Forex('EURUSD', conId=12087792, exchange='IDEALPRO', localSymbol='EUR.USD', tradingClass='EUR.USD'), order=LimitOrder(orderId=10, clientId=10, permId=892285175, action='SELL', totalQuantity=2000.0, lmtPrice=1.07455, auxPrice=0.0), orderStatus=OrderStatus(orderId=10, status='Inactive', filled=0.0, remaining=2000.0, avgFillPrice=0.0, permId=892285175, parentId=0, lastFillPrice=0.0, clientId=10, whyHeld='', mktCapPrice=0.0), fills=[], log=[TradeLogEntry(time=datetime.datetime(2024, 4, 30, 11, 5, 2, 273534, tzinfo=datetime.timezone.utc), status='PendingSubmit', message='', errorCode=0), TradeLogEntry(time=datetime.datetime(2024, 4, 30, 11, 5, 2, 711427, tzinfo=datetime.timezone.utc), status='PreSubmitted', message='', errorCode=0), TradeLogEntry(time=datetime.datetime(2024, 4, 30, 11, 5, 2, 719316, tzinfo=datetime.timezone.utc), status='Inactive', message='', errorCode=0)], advancedError='')\n",
      "2024-04-30 21:05:02,724 ib_async.client DEBUG <<< 4,2,10,201,Order rejected - reason:YOUR ORDER IS NOT ACCEPTED. THERE IS INSUFFICIENT CASH [-2000.00 EUR] IN YOUR ACCOUNT TO OBTAIN THE DESIRED <br>POSITION.,\n",
      "2024-04-30 21:05:02,725 ib_async.wrapper ERROR Error 201, reqId 10: Order rejected - reason:YOUR ORDER IS NOT ACCEPTED. THERE IS INSUFFICIENT CASH [-2000.00 EUR] IN YOUR ACCOUNT TO OBTAIN THE DESIRED <br>POSITION.\n",
      "2024-04-30 21:05:02,725 ib_async.wrapper WARNING Canceled order: Trade(contract=Forex('EURUSD', conId=12087792, exchange='IDEALPRO', localSymbol='EUR.USD', tradingClass='EUR.USD'), order=LimitOrder(orderId=10, clientId=10, permId=892285175, action='SELL', totalQuantity=2000.0, lmtPrice=1.07455, auxPrice=0.0), orderStatus=OrderStatus(orderId=10, status='Cancelled', filled=0.0, remaining=2000.0, avgFillPrice=0.0, permId=892285175, parentId=0, lastFillPrice=0.0, clientId=10, whyHeld='', mktCapPrice=0.0), fills=[], log=[TradeLogEntry(time=datetime.datetime(2024, 4, 30, 11, 5, 2, 273534, tzinfo=datetime.timezone.utc), status='PendingSubmit', message='', errorCode=0), TradeLogEntry(time=datetime.datetime(2024, 4, 30, 11, 5, 2, 711427, tzinfo=datetime.timezone.utc), status='PreSubmitted', message='', errorCode=0), TradeLogEntry(time=datetime.datetime(2024, 4, 30, 11, 5, 2, 719316, tzinfo=datetime.timezone.utc), status='Inactive', message='', errorCode=0), TradeLogEntry(time=datetime.datetime(2024, 4, 30, 11, 5, 2, 724657, tzinfo=datetime.timezone.utc), status='Cancelled', message='Error 201, reqId 10: Order rejected - reason:YOUR ORDER IS NOT ACCEPTED. THERE IS INSUFFICIENT CASH [-2000.00 EUR] IN YOUR ACCOUNT TO OBTAIN THE DESIRED <br>POSITION.', errorCode=201)], advancedError='')\n",
      "2024-04-30 21:05:02,726 ib_async.client DEBUG <<< 5,10,12087792,EUR,CASH,,0,?,,IDEALPRO,USD,EUR.USD,EUR.USD,SELL,2000,LMT,1.07455,0.0,DAY,,DU1215439,,0,,10,892285175,0,0,0,,892285175.0/DU1215439/100,,,,,,,,,,0,,-1,0,,,,,,2147483647,0,0,0,,3,0,0,,0,0,,0,None,,0,,,,?,0,0,,0,0,,,,,,0,0,0,2147483647,2147483647,,,0,,IB,0,0,,0,0,Inactive,1.7976931348623157E308,1.7976931348623157E308,1.7976931348623157E308,1.7976931348623157E308,1.7976931348623157E308,1.7976931348623157E308,1.7976931348623157E308,1.7976931348623157E308,1.7976931348623157E308,,,,,,0,0,0,None,1.7976931348623157E308,2.07455,1.7976931348623157E308,1.7976931348623157E308,1.7976931348623157E308,1.7976931348623157E308,0,,,,0,1,0,0,0,,,0,,,,,\n",
      "2024-04-30 21:05:02,726 ib_async.client DEBUG <<< 3,10,Inactive,0,2000,0,892285175,0,0,10,,0\n",
      "2024-04-30 21:05:02,727 ib_async.wrapper INFO orderStatus: Trade(contract=Forex('EURUSD', conId=12087792, exchange='IDEALPRO', localSymbol='EUR.USD', tradingClass='EUR.USD'), order=LimitOrder(orderId=10, clientId=10, permId=892285175, action='SELL', totalQuantity=2000.0, lmtPrice=1.07455, auxPrice=0.0), orderStatus=OrderStatus(orderId=10, status='Inactive', filled=0.0, remaining=2000.0, avgFillPrice=0.0, permId=892285175, parentId=0, lastFillPrice=0.0, clientId=10, whyHeld='', mktCapPrice=0.0), fills=[], log=[TradeLogEntry(time=datetime.datetime(2024, 4, 30, 11, 5, 2, 273534, tzinfo=datetime.timezone.utc), status='PendingSubmit', message='', errorCode=0), TradeLogEntry(time=datetime.datetime(2024, 4, 30, 11, 5, 2, 711427, tzinfo=datetime.timezone.utc), status='PreSubmitted', message='', errorCode=0), TradeLogEntry(time=datetime.datetime(2024, 4, 30, 11, 5, 2, 719316, tzinfo=datetime.timezone.utc), status='Inactive', message='', errorCode=0), TradeLogEntry(time=datetime.datetime(2024, 4, 30, 11, 5, 2, 724657, tzinfo=datetime.timezone.utc), status='Cancelled', message='Error 201, reqId 10: Order rejected - reason:YOUR ORDER IS NOT ACCEPTED. THERE IS INSUFFICIENT CASH [-2000.00 EUR] IN YOUR ACCOUNT TO OBTAIN THE DESIRED <br>POSITION.', errorCode=201), TradeLogEntry(time=datetime.datetime(2024, 4, 30, 11, 5, 2, 726376, tzinfo=datetime.timezone.utc), status='Inactive', message='', errorCode=0)], advancedError='')\n",
      "2024-04-30 21:05:26,942 ib_async.client DEBUG <<< 6,2,EquityWithLoanValue,102005,AUD,DU1215439\n",
      "2024-04-30 21:05:26,946 ib_async.client DEBUG <<< 6,2,NetLiquidation,102005,AUD,DU1215439\n",
      "2024-04-30 21:05:26,948 ib_async.client DEBUG <<< 6,2,TotalCashValue,101753,AUD,DU1215439\n",
      "2024-04-30 21:05:26,952 ib_async.client DEBUG <<< 6,2,BuyingPower,101753,AUD,DU1215439\n",
      "2024-04-30 21:05:26,955 ib_async.client DEBUG <<< 6,2,AvailableFunds,102005,AUD,DU1215439\n",
      "2024-04-30 21:05:26,960 ib_async.client DEBUG <<< 6,2,ExcessLiquidity,102005,AUD,DU1215439\n",
      "2024-04-30 21:05:26,961 ib_async.client DEBUG <<< 6,2,LookAheadAvailableFunds,102005,AUD,DU1215439\n",
      "2024-04-30 21:05:26,962 ib_async.client DEBUG <<< 6,2,LookAheadExcessLiquidity,102005,AUD,DU1215439\n",
      "2024-04-30 21:05:26,963 ib_async.client DEBUG <<< 6,2,FullAvailableFunds,102005,AUD,DU1215439\n",
      "2024-04-30 21:05:26,963 ib_async.client DEBUG <<< 6,2,FullExcessLiquidity,102005,AUD,DU1215439\n",
      "2024-04-30 21:05:26,964 ib_async.client DEBUG <<< 8,1,21:05\n",
      "2024-04-30 21:05:26,964 ib_async.client DEBUG <<< 8,1,21:05\n",
      "2024-04-30 21:05:26,965 ib_async.client DEBUG <<< 73,1,1,DU1215439,,AvailableFunds,102005,AUD\n",
      "2024-04-30 21:05:26,977 ib_async.client DEBUG <<< 73,1,1,DU1215439,,BuyingPower,101753,AUD\n",
      "2024-04-30 21:05:26,978 ib_async.client DEBUG <<< 73,1,1,DU1215439,,EquityWithLoanValue,102005,AUD\n",
      "2024-04-30 21:05:26,981 ib_async.client DEBUG <<< 73,1,1,DU1215439,,ExcessLiquidity,102005,AUD\n",
      "2024-04-30 21:05:26,982 ib_async.client DEBUG <<< 73,1,1,DU1215439,,FullAvailableFunds,102005,AUD\n",
      "2024-04-30 21:05:26,982 ib_async.client DEBUG <<< 73,1,1,DU1215439,,FullExcessLiquidity,102005,AUD\n",
      "2024-04-30 21:05:26,983 ib_async.client DEBUG <<< 73,1,1,DU1215439,,LookAheadAvailableFunds,102005,AUD\n",
      "2024-04-30 21:05:26,983 ib_async.client DEBUG <<< 73,1,1,DU1215439,,LookAheadExcessLiquidity,102005,AUD\n",
      "2024-04-30 21:05:26,983 ib_async.client DEBUG <<< 73,1,1,DU1215439,,NetLiquidation,102005,AUD\n",
      "2024-04-30 21:05:26,984 ib_async.client DEBUG <<< 73,1,1,DU1215439,,TotalCashValue,101753,AUD\n",
      "2024-04-30 21:05:26,985 ib_async.client DEBUG <<< 8,1,21:05\n",
      "2024-04-30 21:05:26,990 ib_async.client DEBUG <<< 6,2,CashBalance,101753,BASE,DU1215439\n",
      "2024-04-30 21:05:26,992 ib_async.client DEBUG <<< 6,2,TotalCashBalance,101753,BASE,DU1215439\n",
      "2024-04-30 21:05:26,992 ib_async.client DEBUG <<< 6,2,NetLiquidationByCurrency,102005,BASE,DU1215439\n",
      "2024-04-30 21:05:26,994 ib_async.client DEBUG <<< 8,1,21:05\n",
      "2024-04-30 21:05:27,002 ib_async.client DEBUG <<< 8,1,21:05\n",
      "2024-04-30 21:05:27,005 ib_async.client DEBUG <<< 73,1,1,DU1215439,,AccountOrGroup,DU1215439,BASE\n",
      "2024-04-30 21:05:27,007 ib_async.client DEBUG <<< 73,1,1,DU1215439,,AccruedCash,251,BASE\n",
      "2024-04-30 21:05:27,009 ib_async.client DEBUG <<< 73,1,1,DU1215439,,CashBalance,101753,BASE\n",
      "2024-04-30 21:05:27,009 ib_async.client DEBUG <<< 73,1,1,DU1215439,,CorporateBondValue,0,BASE\n",
      "2024-04-30 21:05:27,009 ib_async.client DEBUG <<< 73,1,1,DU1215439,,Cryptocurrency,0,BASE\n",
      "2024-04-30 21:05:27,010 ib_async.client DEBUG <<< 73,1,1,DU1215439,,Currency,BASE,BASE\n",
      "2024-04-30 21:05:27,011 ib_async.client DEBUG <<< 73,1,1,DU1215439,,ExchangeRate,1,BASE\n",
      "2024-04-30 21:05:27,011 ib_async.client DEBUG <<< 73,1,1,DU1215439,,FundValue,0,BASE\n",
      "2024-04-30 21:05:27,012 ib_async.client DEBUG <<< 73,1,1,DU1215439,,FutureOptionValue,0,BASE\n",
      "2024-04-30 21:05:27,012 ib_async.client DEBUG <<< 73,1,1,DU1215439,,FuturesPNL,0,BASE\n",
      "2024-04-30 21:05:27,012 ib_async.client DEBUG <<< 73,1,1,DU1215439,,FxCashBalance,0,BASE\n",
      "2024-04-30 21:05:27,012 ib_async.client DEBUG <<< 73,1,1,DU1215439,,IssuerOptionValue,0,BASE\n",
      "2024-04-30 21:05:27,013 ib_async.client DEBUG <<< 73,1,1,DU1215439,,MoneyMarketFundValue,0,BASE\n",
      "2024-04-30 21:05:27,013 ib_async.client DEBUG <<< 73,1,1,DU1215439,,MutualFundValue,0,BASE\n",
      "2024-04-30 21:05:27,014 ib_async.client DEBUG <<< 73,1,1,DU1215439,,NetDividend,0,BASE\n",
      "2024-04-30 21:05:27,014 ib_async.client DEBUG <<< 73,1,1,DU1215439,,NetLiquidationByCurrency,102005,BASE\n",
      "2024-04-30 21:05:27,014 ib_async.client DEBUG <<< 73,1,1,DU1215439,,OptionMarketValue,0,BASE\n",
      "2024-04-30 21:05:27,014 ib_async.client DEBUG <<< 73,1,1,DU1215439,,RealCurrency,BASE,BASE\n",
      "2024-04-30 21:05:27,015 ib_async.client DEBUG <<< 73,1,1,DU1215439,,RealizedPnL,0,BASE\n",
      "2024-04-30 21:05:27,015 ib_async.client DEBUG <<< 73,1,1,DU1215439,,StockMarketValue,0,BASE\n",
      "2024-04-30 21:05:27,015 ib_async.client DEBUG <<< 73,1,1,DU1215439,,TBillValue,0,BASE\n",
      "2024-04-30 21:05:27,015 ib_async.client DEBUG <<< 73,1,1,DU1215439,,TBondValue,0,BASE\n",
      "2024-04-30 21:05:27,018 ib_async.client DEBUG <<< 73,1,1,DU1215439,,TotalCashBalance,101753,BASE\n",
      "2024-04-30 21:05:27,018 ib_async.client DEBUG <<< 73,1,1,DU1215439,,UnrealizedPnL,0,BASE\n",
      "2024-04-30 21:05:27,018 ib_async.client DEBUG <<< 73,1,1,DU1215439,,WarrantValue,0,BASE\n",
      "2024-04-30 21:06:31,105 ib_async.client DEBUG <<< 10,11,SPX,STK,,0,,SMART,CAD,SPX,SPX,SPX,125208212,0.005,,ACTIVETIM,AD,ADJUST,ALERT,ALGO,ALLOC,AVGCOST,BASKET,BENCHPX,CASHQTY,COND,CONDORDER,DAY,DEACT,DEACTDIS,DEACTEOD,GAT,GTC,GTD,GTT,HID,ICE,LIT,LMT,LOC,MINLOT,MIT,MKT,MOC,MTL,NGCOMB,NONALGO,OCA,OPG,PEGBENCH,PEGMID,REL,RELPCTOFS,RTH,SCALE,SCALERST,SIZECHK,SMARTSTG,SMARTSTGA,SNAPMID,SNAPMKT,SNAPREL,STP,STPLMT,TRAIL,TRAILLIT,TRAILLMT,TRAILMIT,WHATIF,SMART,VENTURE,1,0,STELLAR AFRICAGOLD INC,VENTURE,,Basic Materials,Mining,Mining Services,US/Eastern,20240430:0800-20240430:1700;20240501:0800-20240501:1700;20240502:0800-20240502:1700;20240503:0800-20240503:1700,20240430:0930-20240430:1600;20240501:0930-20240501:1600;20240502:0930-20240502:1600;20240503:0930-20240503:1600,,,1,ISIN,CA85855B1022,11,,,3031,3031,,COMMON,1000,1000,1000\n",
      "2024-04-30 21:06:31,798 ib_async.client DEBUG <<< 10,11,SPX,STK,,0,,SMART,GBP,SPX,SET1,SET1,196961203,0.000001,,ACTIVETIM,AD,ADJUST,ALERT,ALGO,ALGOLTH,ALLOC,AUC,AVGCOST,BASKET,BENCHPX,CASHQTY,COND,CONDORDER,DAY,DEACT,DEACTDIS,DEACTEOD,GAT,GTC,GTD,GTT,HID,IOC,LIT,LMT,LOC,MIT,MKT,MKT2BBO,MOC,MTL,NGCOMB,NODARK,NONALGO,OCA,PEGBENCH,RTH,RTH4MKT,SCALE,SCALERST,SIZECHK,SNAPMID,SNAPMKT,SNAPREL,STP,STPLMT,TRAIL,TRAILLIT,TRAILLMT,TRAILMIT,WHATIF,SMART,LSE,CHIXUK,TRQXUK,BATEUK,EUIBSI,AQXEUK,100,0,SPIRAX-SARCO ENGINEERING PLC,LSE,,Industrial,Machinery-Diversified,Machinery-General Indust,MET,20240430:0900-20240430:1750;20240501:0900-20240501:1750;20240502:0900-20240502:1750;20240503:0900-20240503:1750,20240430:0900-20240430:1750;20240501:0900-20240501:1750;20240502:0900-20240502:1750;20240503:0900-20240503:1750,,,1,ISIN,GB00BWFGQN14,3,,,1917,1917,1917,1917,1917,3059,1917,,COMMON,0.0001,0.0001,1\n",
      "2024-04-30 21:06:32,179 ib_async.client DEBUG <<< 10,11,SPX,STK,,0,,SMART,AUD,SPX,SPX,SPX,543497548,0.001,,ACTIVETIM,AD,ADJUST,ALERT,ALGO,ALGOLTH,ALLOC,AVGCOST,BASKET,BENCHPX,CASHQTY,COND,CONDORDER,DAY,DEACT,DEACTDIS,DEACTEOD,GAT,GTC,GTD,GTT,HID,LIT,LMT,MIT,MKT,MTL,NGCOMB,NONALGO,OCA,PEGBENCH,REL,RELPCTOFS,SCALE,SCALERST,SNAPMID,SNAPMKT,SNAPREL,STP,STPLMT,TRAIL,TRAILLIT,TRAILLMT,TRAILMIT,WHATIF,SMART,ASX,ASXCEN,1,0,SPENDA LTD,ASX,,Technology,Software,Applications Software,Australia/NSW,20240430:0959-20240430:1612;20240501:0959-20240501:1612;20240502:0959-20240502:1612;20240503:0959-20240503:1612,20240430:0959-20240430:1612;20240501:0959-20240501:1612;20240502:0959-20240502:1612;20240503:0959-20240503:1612,,,1,ISIN,AU0000207540,17,,,614,614,614,,COMMON,1,1,1\n",
      "2024-04-30 21:06:32,545 ib_async.client DEBUG <<< 10,11,SPX,STK,,0,,VENTURE,CAD,SPX,SPX,SPX,125208212,0.005,,ACTIVETIM,AD,ADJUST,ALERT,ALLOC,AVGCOST,BASKET,BENCHPX,CASHQTY,COND,CONDORDER,DAY,DEACT,DEACTDIS,DEACTEOD,GAT,GTC,GTD,GTT,HID,LIT,LMT,MINLOT,MIT,MKT,MTL,NGCOMB,NONALGO,OCA,PEGBENCH,RTH,SCALE,SCALERST,SNAPMID,SNAPMKT,SNAPREL,STP,STPLMT,TRAIL,TRAILLIT,TRAILLMT,TRAILMIT,WHATIF,SMART,VENTURE,1,0,STELLAR AFRICAGOLD INC,VENTURE,,Basic Materials,Mining,Mining Services,US/Eastern,20240430:0930-20240430:1600;20240430:1615-20240430:1700;20240501:0930-20240501:1600;20240501:1615-20240501:1700;20240502:0930-20240502:1600;20240502:1615-20240502:1700;20240503:0930-20240503:1600;20240503:1615-20240503:1700,20240430:0930-20240430:1600;20240501:0930-20240501:1600;20240502:0930-20240502:1600;20240503:0930-20240503:1600,,,1,ISIN,CA85855B1022,11,,,3031,3031,,COMMON,1000,1000,1000\n",
      "2024-04-30 21:06:32,921 ib_async.client DEBUG <<< 10,11,SPX,STK,,0,,VALUE,AUD,SPX,SPX,SPX,141513582,0.001,,ACTIVETIM,AD,ADJUST,ALERT,ALLOC,AVGCOST,BASKET,BENCHPX,CASHQTY,COND,CONDORDER,DAY,DEACT,DEACTDIS,DEACTEOD,GAT,GTC,GTD,GTT,HID,LIT,LMT,MIT,MKT,MTL,NGCOMB,NONALGO,OCA,PEGBENCH,SCALE,SCALERST,SNAPMID,SNAPMKT,SNAPREL,STP,STPLMT,TRAIL,TRAILLIT,TRAILLMT,TRAILMIT,WHATIF,VALUE,1,0,SPECTRUM METALS LTD,VALUE,,Basic Materials,Mining,Diversified Minerals,US/Eastern,20240430:0800-20240430:1600;20240501:0800-20240501:1600;20240502:0800-20240502:1600;20240503:0800-20240503:1600,20240430:0800-20240430:1600;20240501:0800-20240501:1600;20240502:0800-20240502:1600;20240503:0800-20240503:1600,,,1,ISIN,AU000000SPX5,2147483647,,,614,,COMMON,1,1,1\n",
      "2024-04-30 21:06:33,292 ib_async.client DEBUG <<< 10,11,SPX,STK,,0,,LSE,GBP,SPX,SET1,SET1,196961203,0.000001,,ACTIVETIM,AD,ADJUST,ALERT,ALGOCLS,ALLOC,AVGCOST,BASKET,BENCHPX,CASHQTY,COND,CONDORDER,DAY,DEACT,DEACTDIS,DEACTEOD,GAT,GTC,GTD,GTT,HID,IOC,LIT,LMT,MIT,MKT,MTL,NGCOMB,NONALGO,OCA,PEGBENCH,REL,RELPCTOFS,RTH,RTH4MKT,SCALE,SCALERST,SNAPMID,SNAPMKT,SNAPREL,STP,STPLMT,TRAIL,TRAILLIT,TRAILLMT,TRAILMIT,WHATIF,SMART,LSE,CHIXUK,TRQXUK,BATEUK,EUIBSI,AQXEUK,100,0,SPIRAX-SARCO ENGINEERING PLC,LSE,,Industrial,Machinery-Diversified,Machinery-General Indust,GB-Eire,20240430:0800-20240430:1650;20240501:0800-20240501:1650;20240502:0800-20240502:1650;20240503:0800-20240503:1650,20240430:0800-20240430:1630;20240501:0800-20240501:1630;20240502:0800-20240502:1630;20240503:0800-20240503:1630,,,1,ISIN,GB00BWFGQN14,3,,,1917,1917,1917,1917,1917,3059,1917,,COMMON,0.0001,0.0001,1\n",
      "2024-04-30 21:06:33,664 ib_async.client DEBUG <<< 10,11,SPX,STK,,0,,CHIXUK,GBP,SPXl,SPX,SPX,196961203,0.000001,,ACTIVETIM,AD,ADJUST,ALERT,ALLOC,AVGCOST,BASKET,BENCHPX,CASHQTY,COND,CONDORDER,DAY,DEACT,DEACTDIS,DEACTEOD,GAT,GTC,GTD,GTT,HID,IOC,LIT,LMT,MIT,MKT,MTL,NGCOMB,NONALGO,OCA,PEGBENCH,RTH,RTH4MKT,SCALE,SCALERST,SNAPMID,SNAPMKT,SNAPREL,STP,STPLMT,TRAIL,TRAILLIT,TRAILLMT,TRAILMIT,WHATIF,SMART,LSE,CHIXUK,TRQXUK,BATEUK,EUIBSI,AQXEUK,100,0,SPIRAX-SARCO ENGINEERING PLC,LSE,,Industrial,Machinery-Diversified,Machinery-General Indust,GB-Eire,20240430:0800-20240430:1630;20240501:0800-20240501:1630;20240502:0800-20240502:1630;20240503:0800-20240503:1630,20240430:0800-20240430:1630;20240501:0800-20240501:1630;20240502:0800-20240502:1630;20240503:0800-20240503:1630,,,1,ISIN,GB00BWFGQN14,3,,,1917,1917,1917,1917,1917,3059,1917,,COMMON,0.0001,0.0001,1\n",
      "2024-04-30 21:06:34,028 ib_async.client DEBUG <<< 10,11,SPX,STK,,0,,TRQXUK,GBP,SPXl,SPX,SPX,196961203,0.000001,,ACTIVETIM,AD,ADJUST,ALERT,ALLOC,AVGCOST,BASKET,BENCHPX,CASHQTY,COND,CONDORDER,DAY,DEACT,DEACTDIS,DEACTEOD,GAT,GTC,GTD,GTT,HID,LIT,LMT,MIT,MKT,MTL,NGCOMB,NONALGO,OCA,PEGBENCH,RTH,RTH4MKT,SCALE,SCALERST,SNAPMID,SNAPMKT,SNAPREL,STP,STPLMT,TRAIL,TRAILLIT,TRAILLMT,TRAILMIT,WHATIF,SMART,LSE,CHIXUK,TRQXUK,BATEUK,EUIBSI,AQXEUK,100,0,SPIRAX-SARCO ENGINEERING PLC,LSE,,Industrial,Machinery-Diversified,Machinery-General Indust,MET,20240430:0900-20240430:1730;20240501:0900-20240501:1730;20240502:0900-20240502:1730;20240503:0900-20240503:1730,20240430:0900-20240430:1730;20240501:0900-20240501:1730;20240502:0900-20240502:1730;20240503:0900-20240503:1730,,,1,ISIN,GB00BWFGQN14,3,,,1917,1917,1917,1917,1917,3059,1917,,COMMON,0.0001,0.0001,1\n",
      "2024-04-30 21:06:34,393 ib_async.client DEBUG <<< 10,11,SPX,STK,,0,,BATEUK,GBP,SPXl,SPX,SPX,196961203,0.000001,,ACTIVETIM,AD,ADJUST,ALERT,ALLOC,AVGCOST,BASKET,BENCHPX,CASHQTY,COND,CONDORDER,DAY,DEACT,DEACTDIS,DEACTEOD,GAT,GTC,GTD,GTT,HID,LIT,LMT,MIT,MKT,MTL,NGCOMB,NONALGO,OCA,PEGBENCH,RTH,RTH4MKT,SCALE,SCALERST,SNAPMID,SNAPMKT,SNAPREL,STP,STPLMT,TRAIL,TRAILLIT,TRAILLMT,TRAILMIT,WHATIF,SMART,LSE,CHIXUK,TRQXUK,BATEUK,EUIBSI,AQXEUK,100,0,SPIRAX-SARCO ENGINEERING PLC,LSE,,Industrial,Machinery-Diversified,Machinery-General Indust,GB-Eire,20240430:0800-20240430:1630;20240501:0800-20240501:1630;20240502:0800-20240502:1630;20240503:0800-20240503:1630,20240430:0800-20240430:1630;20240501:0800-20240501:1630;20240502:0800-20240502:1630;20240503:0800-20240503:1630,,,1,ISIN,GB00BWFGQN14,3,,,1917,1917,1917,1917,1917,3059,1917,,COMMON,0.0001,0.0001,1\n",
      "2024-04-30 21:06:34,771 ib_async.client DEBUG <<< 10,11,SPX,STK,,0,,EUIBSI,GBP,SPX,SPX,SPX,196961203,0.000001,,ACTIVETIM,AD,ADJUST,ALERT,ALLOC,AVGCOST,BASKET,BENCHPX,CASHQTY,COND,CONDORDER,DAY,DEACT,DEACTDIS,DEACTEOD,GAT,GTC,GTD,GTT,HID,LIT,LMT,MIT,MKT,MTL,NGCOMB,NONALGO,OCA,PEGBENCH,RTH,RTH4MKT,SCALE,SCALERST,SNAPMID,SNAPMKT,SNAPREL,STP,STPLMT,TRAIL,TRAILLIT,TRAILLMT,TRAILMIT,WHATIF,SMART,LSE,CHIXUK,TRQXUK,BATEUK,EUIBSI,AQXEUK,100,0,SPIRAX-SARCO ENGINEERING PLC,LSE,,Industrial,Machinery-Diversified,Machinery-General Indust,MET,20240430:0900-20240430:1730;20240501:CLOSED;20240502:0900-20240502:1730;20240503:0900-20240503:1730,20240430:0900-20240430:1730;20240501:CLOSED;20240502:0900-20240502:1730;20240503:0900-20240503:1730,,,1,ISIN,GB00BWFGQN14,2147483647,,,1917,1917,1917,1917,1917,3059,1917,,COMMON,0.0001,0.0001,0.0001\n",
      "2024-04-30 21:06:35,146 ib_async.client DEBUG <<< 10,11,SPX,STK,,0,,AQXEUK,GBP,SPXl,SPX,SPX,196961203,0.000001,,ACTIVETIM,AD,ADJUST,ALERT,ALLOC,AVGCOST,BASKET,BENCHPX,CASHQTY,COND,CONDORDER,DAY,DEACT,DEACTDIS,DEACTEOD,GAT,GTC,GTD,GTT,HID,LIT,LMT,MIT,MKT,MTL,NGCOMB,NONALGO,OCA,PEGBENCH,RTH,RTH4MKT,SCALE,SCALERST,SNAPMID,SNAPMKT,SNAPREL,STP,STPLMT,TRAIL,TRAILLIT,TRAILLMT,TRAILMIT,WHATIF,SMART,LSE,CHIXUK,TRQXUK,BATEUK,EUIBSI,AQXEUK,100,0,SPIRAX-SARCO ENGINEERING PLC,LSE,,Industrial,Machinery-Diversified,Machinery-General Indust,GB-Eire,20240430:0800-20240430:1650;20240501:0800-20240501:1650;20240502:0800-20240502:1650;20240503:0800-20240503:1650,20240430:0800-20240430:1650;20240501:0800-20240501:1650;20240502:0800-20240502:1650;20240503:0800-20240503:1650,,,1,ISIN,GB00BWFGQN14,3,,,1917,1917,1917,1917,1917,3059,1917,,COMMON,0.0001,0.0001,1\n",
      "2024-04-30 21:06:35,508 ib_async.client DEBUG <<< 10,11,SPX,STK,,0,,ASX,AUD,SPX,SPX,SPX,543497548,0.001,,ACTIVETIM,AD,ADJUST,ALERT,ALLOC,AVGCOST,BASKET,BENCHPX,CASHQTY,COND,CONDORDER,DAY,DEACT,DEACTDIS,DEACTEOD,GAT,GTC,GTD,GTT,HID,IOC,LIT,LMT,MIT,MKT,MTL,NGCOMB,NONALGO,OCA,PEGBENCH,REL,RELPCTOFS,SCALE,SCALERST,SNAPMID,SNAPMKT,SNAPREL,STP,STPLMT,TRAIL,TRAILLIT,TRAILLMT,TRAILMIT,WHATIF,SMART,ASX,ASXCEN,1,0,SPENDA LTD,ASX,,Technology,Software,Applications Software,Australia/NSW,20240430:0959-20240430:1612;20240501:0959-20240501:1612;20240502:0959-20240502:1612;20240503:0959-20240503:1612,20240430:0959-20240430:1612;20240501:0959-20240501:1612;20240502:0959-20240502:1612;20240503:0959-20240503:1612,,,1,ISIN,AU0000207540,17,,,614,614,614,,COMMON,1,1,1\n",
      "2024-04-30 21:06:35,870 ib_async.client DEBUG <<< 10,11,SPX,STK,,0,,ASXCEN,AUD,SPX,SPX,SPX,543497548,0.001,,ACTIVETIM,AD,ADJUST,ALERT,ALLOC,AON,AVGCOST,BASKET,BENCHPX,CASHQTY,COND,CONDORDER,DAY,DEACT,DEACTDIS,DEACTEOD,GAT,GTC,GTD,GTT,HID,IOC,LIT,LMT,MIT,MKT,MTL,NGCOMB,NONALGO,OCA,PAON,PEGBENCH,SCALE,SCALERST,SNAPMID,SNAPMKT,SNAPREL,STP,STPLMT,TRAIL,TRAILLIT,TRAILLMT,TRAILMIT,WHATIF,SMART,ASX,ASXCEN,1,0,SPENDA LTD,ASX,,Technology,Software,Applications Software,Australia/NSW,20240430:0959-20240430:1612;20240501:0959-20240501:1612;20240502:0959-20240502:1612;20240503:0959-20240503:1612,20240430:0959-20240430:1612;20240501:0959-20240501:1612;20240502:0959-20240502:1612;20240503:0959-20240503:1612,,,1,ISIN,AU0000207540,2147483647,,,614,614,614,,COMMON,1,1,1\n",
      "2024-04-30 21:06:35,871 ib_async.client DEBUG <<< 52,1,11\n",
      "2024-04-30 21:06:40,443 ib_async.client DEBUG <<< 4,2,12,321,Error validating request.-'bS' : cause - Missing order exchange.,\n",
      "2024-04-30 21:06:40,444 ib_async.wrapper ERROR Error 321, reqId 12: Error validating request.-'bS' : cause - Missing order exchange.\n",
      "2024-04-30 21:06:40,444 ib_async.wrapper WARNING Canceled order: Trade(contract=Stock(symbol='SPX'), order=LimitOrder(orderId=12, clientId=10, action='SELL', totalQuantity=100, lmtPrice=510.06), orderStatus=OrderStatus(orderId=12, status='Cancelled', filled=0.0, remaining=0.0, avgFillPrice=0.0, permId=0, parentId=0, lastFillPrice=0.0, clientId=0, whyHeld='', mktCapPrice=0.0), fills=[], log=[TradeLogEntry(time=datetime.datetime(2024, 4, 30, 11, 6, 40, 423610, tzinfo=datetime.timezone.utc), status='PendingSubmit', message='', errorCode=0), TradeLogEntry(time=datetime.datetime(2024, 4, 30, 11, 6, 40, 443814, tzinfo=datetime.timezone.utc), status='Cancelled', message=\"Error 321, reqId 12: Error validating request.-'bS' : cause - Missing order exchange.\", errorCode=321)], advancedError='')\n",
      "2024-04-30 21:07:20,102 ib_async.client DEBUG <<< 10,13,SPX,IND,,0,,CBOE,USD,SPX,,,416904,0.01,,ACTIVETIM,AD,ADJUST,ALERT,ALLOC,BASKET,BENCHPX,COND,CONDORDER,DAY,DEACT,DEACTDIS,DEACTEOD,GAT,GTC,GTD,GTT,HID,LMT,NONALGO,OCA,SCALE,SCALERST,WHATIF,CBOE,1,0,S&P 500 Stock Index,,,Indices,Broad Range Equity Index,*,US/Central,20240430:0830-20240430:1500;20240501:0830-20240501:1500;20240502:0830-20240502:1500;20240503:0830-20240503:1500,20240430:0830-20240430:1500;20240501:0830-20240501:1500;20240502:0830-20240502:1500;20240503:0830-20240503:1500,,,0,2147483647,,,25,,,1,1,1\n",
      "2024-04-30 21:07:20,104 ib_async.client DEBUG <<< 52,1,13\n",
      "2024-04-30 21:08:06,800 ib_async.client DEBUG <<< 4,2,14,321,Error validating request.-'bV' : cause - Please enter a valid security type,\n",
      "2024-04-30 21:08:06,800 ib_async.wrapper ERROR Error 321, reqId 14: Error validating request.-'bV' : cause - Please enter a valid security type, contract: Contract(symbol='SPY', exchange='NYSE', currency='USD')\n",
      "2024-04-30 21:08:13,479 ib_async.client DEBUG <<< 4,2,15,321,Error validating request.-'bV' : cause - Please enter a valid security type,\n",
      "2024-04-30 21:08:13,479 ib_async.wrapper ERROR Error 321, reqId 15: Error validating request.-'bV' : cause - Please enter a valid security type, contract: Contract(symbol='SPY', currency='USD')\n",
      "2024-04-30 21:08:26,949 ib_async.client DEBUG <<< 6,2,NetLiquidation,102005,AUD,DU1215439\n",
      "2024-04-30 21:08:26,952 ib_async.client DEBUG <<< 8,1,21:08\n",
      "2024-04-30 21:08:26,954 ib_async.client DEBUG <<< 8,1,21:08\n",
      "2024-04-30 21:08:26,965 ib_async.client DEBUG <<< 73,1,1,DU1215439,,NetLiquidation,102005,AUD\n",
      "2024-04-30 21:08:26,966 ib_async.client DEBUG <<< 8,1,21:08\n",
      "2024-04-30 21:08:27,234 ib_async.client DEBUG <<< 4,2,-1,2107,HMDS data farm connection is inactive but should be available upon demand.ushmds,\n",
      "2024-04-30 21:08:27,235 ib_async.wrapper INFO Warning 2107, reqId -1: HMDS data farm connection is inactive but should be available upon demand.ushmds\n",
      "2024-04-30 21:08:36,175 ib_async.client DEBUG <<< 79,16,56,756733,SPY,STK,ARCA,USD,4,CFD,OPT,WAR,BAG,SPDR S&P 500 ETF TRUST,,237937002,SPY,STK,ASX,AUD,0,SPDR S&P 500 ETF TRUS,,38709152,SPY,STK,MEXI,MXN,0,SPDR S&P 500 ETF TRUST,,18542577,SPYV.IV,IND,PSE,USD,0,STREETTRACKS DJ US LARGE CAP VALUE,,18542575,SPYG.IV,IND,PSE,USD,0,STRRETTRACKS DJ US LARGE CAP GROWTH,,18542565,SPY.IV,IND,PSE,USD,0,SPDRS TRUST SERIES I,,45540799,SPYG,STK,ARCA,USD,3,CFD,OPT,BAG,SPDR PORTFOLIO S&P 500 GROWT,,45540652,SPYV,STK,ARCA,USD,3,CFD,OPT,BAG,SPDR PORT S&P 500 VALUE,,121559139,SPY5,STK,EBS,CHF,0,SPDR S&P 500 UCITS ETF DIST,,104754270,SPY5,STK,IBIS2,EUR,0,SPDR S&P 500 UCITS ETF DIST,,104790440,SPY5,STK,LSEETF,USD,1,CFD,SPDR S&P 500 UCITS ETF DIST,,210534655,SPYD,STK,ARCA,USD,3,CFD,OPT,BAG,SPDR PORTFOLIO S&P 500 HIGH,,95933644,SPYD,STK,IBIS2,EUR,1,CFD,SPDR US DIV ARISTOCRATS,,663368031,SPYL,STK,AEB,EUR,0,SPDR S&P 500 UCITS ETF ACC,,683486987,SPYLN,STK,MEXI,MXN,0,SPDR S&P 500 UCITS ETF ACC,,663368035,SPYL,STK,EBS,USD,0,SPDR S&P 500 UCITS ETF ACC,,89384960,SPYY,STK,IBIS2,EUR,1,CFD,SPDR ACWI,,353579925,SPY4N,STK,MEXI,MXN,0,SPDR S&P 400 US MID CAP,,101846427,SPY4,STK,IBIS2,EUR,0,SPDR S&P 400 US MID CAP,,121559130,SPY4,STK,EBS,CHF,0,SPDR S&P 400 US MID CAP,,101772094,SPY4,STK,LSEETF,USD,1,CFD,SPDR S&P 400 US MID CAP,,453311091,SPYGX,FUND,FUNDSERV,USD,0,SPYGLASS GROWTH FUND (Spyglass Capital Management),,-1,,BOND,,,0,SPY Agro Industries Ltd,e5377084,-1,,BOND,,,0,Spyker Bonds UK Ltd,e3335247,86792742,IBMSY,IND,NASDAQ,USD,0,Nasdaq OMX Alpha IBM vs. SPY Index,,86792773,RVSPY,IND,NASDAQ,USD,0,Nasdaq OMX Alpha RIMM vs. SPY Index,,86792739,HVSPY,IND,NASDAQ,USD,0,Nasdaq OMX Alpha HPQ vs. SPY Index,,86792785,WMTSY,IND,NASDAQ,USD,0,Nasdaq OMX Alpha WMT vs. SPY Index,,86792754,GESPY,IND,NASDAQ,USD,0,Nasdaq OMX Alpha GE vs. SPY Index,,86792778,GOOSY,IND,NASDAQ,USD,0,Nasdaq OMX Alpha GOOG vs. SPY Index,,86792768,PVSPY,IND,NASDAQ,USD,0,Nasdaq OMX Alpha PFE vs. SPY Index,,86792745,INTSY,IND,NASDAQ,USD,0,Nasdaq OMX Alpha INTC vs. SPY Index,,86792735,FVSPY,IND,NASDAQ,USD,0,Nasdaq OMX Alpha F vs. SPY Index,,86792725,AVSPY,IND,NASDAQ,USD,0,Nasdaq OMX Alpha AAPL vs. SPY Index,,86792759,MVSPY,IND,NASDAQ,USD,0,Nasdaq OMX Alpha MSFT vs. SPY Index,,86792760,MRKSY,IND,NASDAQ,USD,0,Nasdaq OMX Alpha MRK vs. SPY Index,,86792795,YVSPY,IND,NASDAQ,USD,0,Nasdaq OMX Alpha T vs. SPY Index,,86792730,CVSPY,IND,NASDAQ,USD,0,Nasdaq OMX Alpha CSCO vs. SPY Index,,86792788,XVSPY,IND,NASDAQ,USD,0,Nasdaq OMX Alpha TGT vs. SPY Index,,652828849,SYRE,STK,NASDAQ,USD,3,CFD,OPT,BAG,SPYRE THERAPEUTICS INC,,451268763,SPR,STK,WSE,PLN,0,SPYROSOFT SA,,532462973,5SPY,STK,LSEETF,GBP,0,LS 5X LONG SPY,,532462968,5SPE,STK,LSEETF,EUR,0,LS 5X LONG SPY,,532462967,SP5Y,STK,LSEETF,USD,0,LS 5X LONG SPY,,532462729,SSPY,STK,LSEETF,GBP,0,LS -3X SHORT SPY,,532462726,SSPE,STK,LSEETF,EUR,0,LS -3X SHORT SPY,,532462732,SPYS,STK,LSEETF,USD,0,LS -3X SHORT SPY,,119779029,L9I1,STK,VALUE,EUR,0,SPYKER N.V.,,125311327,SGL,STK,VALUE,CAD,0,SPYGLASS RESOURCES CORP,,125311331,SGLRF,STK,PINK,USD,0,SPYGLASS RESOURCES CORP,,186654362,SPYR,STK,PINK,USD,0,SPYR INC,,589530155,2NP,STK,FWB2,EUR,0,SPYROSOFT SA,,689955371,3920,STK,FWB2,EUR,0,SPYRE THERAPEUTICS INC,,-1,,BOND,,,0,Askim & Spydeberg Sparebank,e3410633,-1,,BOND,,,0,SPY Reddy & Associates,e1648295,-1,,BOND,,,0,Spy Hill Power LP,e3327023\n",
      "2024-04-30 21:09:17,181 ib_async.client DEBUG <<< 4,2,17,321,Error validating request.-'bV' : cause - Please enter a valid security type,\n",
      "2024-04-30 21:09:17,182 ib_async.wrapper ERROR Error 321, reqId 17: Error validating request.-'bV' : cause - Please enter a valid security type, contract: Contract(symbol='SPY', exchange='ARCA', currency='USD')\n",
      "2024-04-30 21:09:25,783 ib_async.client DEBUG <<< 4,2,18,321,Error validating request.-'bV' : cause - Please enter a valid security type,\n",
      "2024-04-30 21:09:25,783 ib_async.wrapper ERROR Error 321, reqId 18: Error validating request.-'bV' : cause - Please enter a valid security type, contract: Contract(symbol='SPY', exchange='ARCA', currency='USD')\n",
      "2024-04-30 21:10:32,440 ib_async.client DEBUG <<< 10,19,SPY,STK,,0,,ARCA,USD,SPY,SPY,SPY,756733,0.01,,ACTIVETIM,AD,ADJUST,ALERT,ALLOC,AVGCOST,BASKET,BENCHPX,CASHQTY,COND,CONDORDER,DAY,DEACT,DEACTDIS,DEACTEOD,DIS,GAT,GTC,GTD,GTT,HID,IOC,LIT,LMT,LOC,MIT,MKT,MOC,MTL,NGCOMB,NONALGO,OCA,OPG,PEGBENCH,REL,RELPCTOFS,RTH,SCALE,SCALERST,SNAPMID,SNAPMKT,SNAPREL,STP,STPLMT,TRAIL,TRAILLIT,TRAILLMT,TRAILMIT,WHATIF,SMART,AMEX,NYSE,CBOE,PHLX,ISE,CHX,ARCA,NASDAQ,DRCTEDGE,BEX,BATS,EDGEA,BYX,IEX,EDGX,FOXRIVER,PEARL,NYSENAT,LTSE,MEMX,IBEOS,OVERNIGHT,PSX,1,0,SPDR S&P 500 ETF TRUST,ARCA,,,,,US/Eastern,20240430:0400-20240430:2000;20240501:0400-20240501:2000;20240502:0400-20240502:2000;20240503:0400-20240503:2000,20240430:0930-20240430:1600;20240501:0930-20240501:1600;20240502:0930-20240502:1600;20240503:0930-20240503:1600,,,1,ISIN,US78462F1030,1,,,26,26,26,26,26,26,26,26,26,26,26,26,26,26,26,26,26,26,26,26,26,26,26,26,,ETF,0.0001,0.0001,100\n",
      "2024-04-30 21:10:32,441 ib_async.client DEBUG <<< 52,1,19\n",
      "2024-04-30 21:10:36,561 ib_async.client DEBUG <<< 10,20,SPY,STK,,0,,ARCA,USD,SPY,SPY,SPY,756733,0.01,,ACTIVETIM,AD,ADJUST,ALERT,ALLOC,AVGCOST,BASKET,BENCHPX,CASHQTY,COND,CONDORDER,DAY,DEACT,DEACTDIS,DEACTEOD,DIS,GAT,GTC,GTD,GTT,HID,IOC,LIT,LMT,LOC,MIT,MKT,MOC,MTL,NGCOMB,NONALGO,OCA,OPG,PEGBENCH,REL,RELPCTOFS,RTH,SCALE,SCALERST,SNAPMID,SNAPMKT,SNAPREL,STP,STPLMT,TRAIL,TRAILLIT,TRAILLMT,TRAILMIT,WHATIF,SMART,AMEX,NYSE,CBOE,PHLX,ISE,CHX,ARCA,NASDAQ,DRCTEDGE,BEX,BATS,EDGEA,BYX,IEX,EDGX,FOXRIVER,PEARL,NYSENAT,LTSE,MEMX,IBEOS,OVERNIGHT,PSX,1,0,SPDR S&P 500 ETF TRUST,ARCA,,,,,US/Eastern,20240430:0400-20240430:2000;20240501:0400-20240501:2000;20240502:0400-20240502:2000;20240503:0400-20240503:2000,20240430:0930-20240430:1600;20240501:0930-20240501:1600;20240502:0930-20240502:1600;20240503:0930-20240503:1600,,,1,ISIN,US78462F1030,1,,,26,26,26,26,26,26,26,26,26,26,26,26,26,26,26,26,26,26,26,26,26,26,26,26,,ETF,0.0001,0.0001,100\n",
      "2024-04-30 21:10:36,570 ib_async.client DEBUG <<< 52,1,20\n",
      "2024-04-30 21:11:26,939 ib_async.client DEBUG <<< 6,2,EquityWithLoanValue,102005,AUD,DU1215439\n",
      "2024-04-30 21:11:26,945 ib_async.client DEBUG <<< 6,2,NetLiquidation,102005,AUD,DU1215439\n",
      "2024-04-30 21:11:26,964 ib_async.client DEBUG <<< 6,2,TotalCashValue,101754,AUD,DU1215439\n",
      "2024-04-30 21:11:26,964 ib_async.client DEBUG <<< 6,2,BuyingPower,101754,AUD,DU1215439\n",
      "2024-04-30 21:11:26,964 ib_async.client DEBUG <<< 6,2,AvailableFunds,102005,AUD,DU1215439\n",
      "2024-04-30 21:11:26,966 ib_async.client DEBUG <<< 6,2,ExcessLiquidity,102005,AUD,DU1215439\n",
      "2024-04-30 21:11:26,966 ib_async.client DEBUG <<< 6,2,LookAheadAvailableFunds,102005,AUD,DU1215439\n",
      "2024-04-30 21:11:26,967 ib_async.client DEBUG <<< 6,2,LookAheadExcessLiquidity,102005,AUD,DU1215439\n",
      "2024-04-30 21:11:26,967 ib_async.client DEBUG <<< 6,2,FullAvailableFunds,102005,AUD,DU1215439\n",
      "2024-04-30 21:11:26,967 ib_async.client DEBUG <<< 6,2,FullExcessLiquidity,102005,AUD,DU1215439\n",
      "2024-04-30 21:11:26,968 ib_async.client DEBUG <<< 8,1,21:11\n",
      "2024-04-30 21:11:26,968 ib_async.client DEBUG <<< 8,1,21:11\n",
      "2024-04-30 21:11:26,969 ib_async.client DEBUG <<< 73,1,1,DU1215439,,AvailableFunds,102005,AUD\n",
      "2024-04-30 21:11:26,977 ib_async.client DEBUG <<< 73,1,1,DU1215439,,BuyingPower,101754,AUD\n",
      "2024-04-30 21:11:26,978 ib_async.client DEBUG <<< 73,1,1,DU1215439,,EquityWithLoanValue,102005,AUD\n",
      "2024-04-30 21:11:26,978 ib_async.client DEBUG <<< 73,1,1,DU1215439,,ExcessLiquidity,102005,AUD\n",
      "2024-04-30 21:11:26,979 ib_async.client DEBUG <<< 73,1,1,DU1215439,,FullAvailableFunds,102005,AUD\n",
      "2024-04-30 21:11:26,979 ib_async.client DEBUG <<< 73,1,1,DU1215439,,FullExcessLiquidity,102005,AUD\n",
      "2024-04-30 21:11:26,979 ib_async.client DEBUG <<< 73,1,1,DU1215439,,LookAheadAvailableFunds,102005,AUD\n",
      "2024-04-30 21:11:26,980 ib_async.client DEBUG <<< 73,1,1,DU1215439,,LookAheadExcessLiquidity,102005,AUD\n",
      "2024-04-30 21:11:26,980 ib_async.client DEBUG <<< 73,1,1,DU1215439,,NetLiquidation,102005,AUD\n",
      "2024-04-30 21:11:26,980 ib_async.client DEBUG <<< 73,1,1,DU1215439,,TotalCashValue,101754,AUD\n",
      "2024-04-30 21:11:26,980 ib_async.client DEBUG <<< 8,1,21:11\n",
      "2024-04-30 21:11:26,981 ib_async.client DEBUG <<< 6,2,CashBalance,101754,BASE,DU1215439\n",
      "2024-04-30 21:11:26,984 ib_async.client DEBUG <<< 6,2,TotalCashBalance,101754,BASE,DU1215439\n",
      "2024-04-30 21:11:26,985 ib_async.client DEBUG <<< 6,2,NetLiquidationByCurrency,102005,BASE,DU1215439\n",
      "2024-04-30 21:11:26,985 ib_async.client DEBUG <<< 8,1,21:11\n",
      "2024-04-30 21:11:26,986 ib_async.client DEBUG <<< 8,1,21:11\n",
      "2024-04-30 21:11:26,987 ib_async.client DEBUG <<< 73,1,1,DU1215439,,AccountOrGroup,DU1215439,BASE\n",
      "2024-04-30 21:11:26,989 ib_async.client DEBUG <<< 73,1,1,DU1215439,,AccruedCash,251,BASE\n",
      "2024-04-30 21:11:26,990 ib_async.client DEBUG <<< 73,1,1,DU1215439,,CashBalance,101754,BASE\n",
      "2024-04-30 21:11:26,990 ib_async.client DEBUG <<< 73,1,1,DU1215439,,CorporateBondValue,0,BASE\n",
      "2024-04-30 21:11:26,991 ib_async.client DEBUG <<< 73,1,1,DU1215439,,Cryptocurrency,0,BASE\n",
      "2024-04-30 21:11:26,991 ib_async.client DEBUG <<< 73,1,1,DU1215439,,Currency,BASE,BASE\n",
      "2024-04-30 21:11:26,992 ib_async.client DEBUG <<< 73,1,1,DU1215439,,ExchangeRate,1,BASE\n",
      "2024-04-30 21:11:26,993 ib_async.client DEBUG <<< 73,1,1,DU1215439,,FundValue,0,BASE\n",
      "2024-04-30 21:11:26,993 ib_async.client DEBUG <<< 73,1,1,DU1215439,,FutureOptionValue,0,BASE\n",
      "2024-04-30 21:11:26,994 ib_async.client DEBUG <<< 73,1,1,DU1215439,,FuturesPNL,0,BASE\n",
      "2024-04-30 21:11:26,995 ib_async.client DEBUG <<< 73,1,1,DU1215439,,FxCashBalance,0,BASE\n",
      "2024-04-30 21:11:26,995 ib_async.client DEBUG <<< 73,1,1,DU1215439,,IssuerOptionValue,0,BASE\n",
      "2024-04-30 21:11:26,995 ib_async.client DEBUG <<< 73,1,1,DU1215439,,MoneyMarketFundValue,0,BASE\n",
      "2024-04-30 21:11:26,995 ib_async.client DEBUG <<< 73,1,1,DU1215439,,MutualFundValue,0,BASE\n",
      "2024-04-30 21:11:26,996 ib_async.client DEBUG <<< 73,1,1,DU1215439,,NetDividend,0,BASE\n",
      "2024-04-30 21:11:26,996 ib_async.client DEBUG <<< 73,1,1,DU1215439,,NetLiquidationByCurrency,102005,BASE\n",
      "2024-04-30 21:11:26,996 ib_async.client DEBUG <<< 73,1,1,DU1215439,,OptionMarketValue,0,BASE\n",
      "2024-04-30 21:11:26,996 ib_async.client DEBUG <<< 73,1,1,DU1215439,,RealCurrency,BASE,BASE\n",
      "2024-04-30 21:11:26,997 ib_async.client DEBUG <<< 73,1,1,DU1215439,,RealizedPnL,0,BASE\n",
      "2024-04-30 21:11:26,997 ib_async.client DEBUG <<< 73,1,1,DU1215439,,StockMarketValue,0,BASE\n",
      "2024-04-30 21:11:26,997 ib_async.client DEBUG <<< 73,1,1,DU1215439,,TBillValue,0,BASE\n",
      "2024-04-30 21:11:26,997 ib_async.client DEBUG <<< 73,1,1,DU1215439,,TBondValue,0,BASE\n",
      "2024-04-30 21:11:26,998 ib_async.client DEBUG <<< 73,1,1,DU1215439,,TotalCashBalance,101754,BASE\n",
      "2024-04-30 21:11:26,998 ib_async.client DEBUG <<< 73,1,1,DU1215439,,UnrealizedPnL,0,BASE\n",
      "2024-04-30 21:11:26,998 ib_async.client DEBUG <<< 73,1,1,DU1215439,,WarrantValue,0,BASE\n"
     ]
    },
    {
     "data": {
      "text/plain": [
       "datetime.datetime(2004, 3, 4, 14, 30)"
      ]
     },
     "execution_count": 11,
     "metadata": {},
     "output_type": "execute_result"
    }
   ],
   "source": [
    "ib.reqHeadTimeStamp(contract, whatToShow='TRADES', useRTH=True)"
   ]
  },
  {
   "cell_type": "code",
   "execution_count": 68,
   "metadata": {},
   "outputs": [],
   "source": [
    "from IPython.display import display, clear_output\n",
    "import matplotlib.pyplot as plt\n"
   ]
  },
  {
   "cell_type": "code",
   "execution_count": 69,
   "metadata": {},
   "outputs": [
    {
     "name": "stderr",
     "output_type": "stream",
     "text": [
      "2024-04-25 19:04:07,966 matplotlib.pyplot DEBUG Loaded backend module://matplotlib_inline.backend_inline version unknown.\n"
     ]
    }
   ],
   "source": [
    "%matplotlib inline\n"
   ]
  },
  {
   "cell_type": "code",
   "execution_count": 70,
   "metadata": {},
   "outputs": [],
   "source": [
    "\n",
    "def onBarUpdate(bars, hasNewBar):\n",
    "    plt.close()\n",
    "    plot = util.barplot(bars)\n",
    "    clear_output(wait=True)\n",
    "    display(plot)\n"
   ]
  },
  {
   "cell_type": "code",
   "execution_count": 71,
   "metadata": {},
   "outputs": [
    {
     "name": "stderr",
     "output_type": "stream",
     "text": [
      "2024-04-25 19:04:10,773 ib_async.client DEBUG >>> 20,39,416904,SPX,IND,,0.0,,,CBOE,,USD,SPX,,0,,1 min,2 D,1,TRADES,1,1,\n"
     ]
    }
   ],
   "source": [
    "bars = ib.reqHistoricalData(\n",
    "        contract,\n",
    "        endDateTime='',\n",
    "        durationStr='2 D',\n",
    "        barSizeSetting='1 min',\n",
    "        whatToShow='TRADES',\n",
    "        useRTH=True,\n",
    "        formatDate=1,\n",
    "        keepUpToDate=True)\n",
    "bars.updateEvent += onBarUpdate\n",
    "\n"
   ]
  },
  {
   "cell_type": "code",
   "execution_count": 72,
   "metadata": {},
   "outputs": [
    {
     "data": {
      "text/plain": [
       "BarData(date=datetime.datetime(2024, 4, 24, 14, 59, tzinfo=zoneinfo.ZoneInfo(key='US/Central')), open=5074.6, high=5074.6, low=5071.44, close=5072.21, volume=0.0, average=0.0, barCount=59)"
      ]
     },
     "execution_count": 72,
     "metadata": {},
     "output_type": "execute_result"
    }
   ],
   "source": [
    "bars[-1]"
   ]
  },
  {
   "cell_type": "code",
   "execution_count": 73,
   "metadata": {},
   "outputs": [
    {
     "name": "stderr",
     "output_type": "stream",
     "text": [
      "2024-04-25 19:04:23,698 ib_async.client DEBUG >>> 25,1,39\n"
     ]
    }
   ],
   "source": [
    "ib.sleep(10)\n",
    "ib.cancelHistoricalData(bars)"
   ]
  },
  {
   "cell_type": "markdown",
   "metadata": {},
   "source": [
    "Create a contract and a market order:"
   ]
  },
  {
   "cell_type": "code",
   "execution_count": 23,
   "metadata": {},
   "outputs": [],
   "source": [
    "order = LimitOrder('BUY', 1, bars[-2].close)"
   ]
  },
  {
   "cell_type": "code",
   "execution_count": 24,
   "metadata": {},
   "outputs": [],
   "source": [
    "trade = ib.placeOrder(contract, order)"
   ]
  },
  {
   "cell_type": "code",
   "execution_count": 25,
   "metadata": {},
   "outputs": [
    {
     "data": {
      "text/plain": [
       "[TradeLogEntry(time=datetime.datetime(2024, 4, 30, 11, 18, 51, 553284, tzinfo=datetime.timezone.utc), status='PendingSubmit', message='', errorCode=0),\n",
       " TradeLogEntry(time=datetime.datetime(2024, 4, 30, 11, 18, 52, 343542, tzinfo=datetime.timezone.utc), status='PreSubmitted', message='', errorCode=0)]"
      ]
     },
     "execution_count": 25,
     "metadata": {},
     "output_type": "execute_result"
    }
   ],
   "source": [
    "ib.sleep(1)\n",
    "trade.log"
   ]
  },
  {
   "cell_type": "code",
   "execution_count": 34,
   "metadata": {},
   "outputs": [],
   "source": [
    "for order in ib.orders():\n",
    "    ib.cancelOrder(order)\n",
    "\n"
   ]
  },
  {
   "cell_type": "code",
   "execution_count": 36,
   "metadata": {},
   "outputs": [
    {
     "data": {
      "text/plain": [
       "[]"
      ]
     },
     "execution_count": 36,
     "metadata": {},
     "output_type": "execute_result"
    }
   ],
   "source": [
    "ib.openOrders()"
   ]
  },
  {
   "cell_type": "code",
   "execution_count": 31,
   "metadata": {},
   "outputs": [
    {
     "data": {
      "text/plain": [
       "False"
      ]
     },
     "execution_count": 31,
     "metadata": {},
     "output_type": "execute_result"
    }
   ],
   "source": [
    "trade.isDone()"
   ]
  },
  {
   "cell_type": "code",
   "execution_count": 32,
   "metadata": {},
   "outputs": [
    {
     "data": {
      "text/plain": [
       "[]"
      ]
     },
     "execution_count": 32,
     "metadata": {},
     "output_type": "execute_result"
    }
   ],
   "source": [
    "ib.positions()"
   ]
  },
  {
   "cell_type": "code",
   "execution_count": null,
   "metadata": {},
   "outputs": [],
   "source": []
  }
 ],
 "metadata": {
  "kernelspec": {
   "display_name": "Python 3",
   "language": "python",
   "name": "python3"
  },
  "language_info": {
   "codemirror_mode": {
    "name": "ipython",
    "version": 3
   },
   "file_extension": ".py",
   "mimetype": "text/x-python",
   "name": "python",
   "nbconvert_exporter": "python",
   "pygments_lexer": "ipython3",
   "version": "3.12.2"
  }
 },
 "nbformat": 4,
 "nbformat_minor": 4
}
