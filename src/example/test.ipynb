{
 "cells": [
  {
   "cell_type": "markdown",
   "metadata": {},
   "source": [
    "# Testing"
   ]
  },
  {
   "cell_type": "code",
   "execution_count": 1,
   "metadata": {},
   "outputs": [
    {
     "name": "stdout",
     "output_type": "stream",
     "text": [
      "['Event', 'util', 'Client', 'Bag', 'Bond', 'CFD', 'ComboLeg', 'Commodity', 'ContFuture', 'Contract', 'ContractDescription', 'ContractDetails', 'Crypto', 'DeltaNeutralContract', 'Forex', 'Future', 'FuturesOption', 'Index', 'MutualFund', 'Option', 'ScanData', 'Stock', 'TagValue', 'Warrant', 'FlexError', 'FlexReport', 'IB', 'IBC', 'Watchdog', 'AccountValue', 'BarData', 'BarDataList', 'CommissionReport', 'ConnectionStats', 'DOMLevel', 'DepthMktDataDescription', 'Dividends', 'Execution', 'ExecutionFilter', 'FamilyCode', 'Fill', 'FundamentalRatios', 'HistogramData', 'HistoricalNews', 'HistoricalTick', 'HistoricalTickBidAsk', 'HistoricalTickLast', 'HistoricalSchedule', 'HistoricalSession', 'MktDepthData', 'NewsArticle', 'NewsBulletin', 'NewsProvider', 'NewsTick', 'OptionChain', 'OptionComputation', 'PnL', 'PnLSingle', 'PortfolioItem', 'Position', 'PriceIncrement', 'RealTimeBar', 'RealTimeBarList', 'ScanDataList', 'ScannerSubscription', 'SmartComponent', 'SoftDollarTier', 'TickAttrib', 'TickAttribBidAsk', 'TickAttribLast', 'TickByTickAllLast', 'WshEventData', 'TickByTickBidAsk', 'TickByTickMidPoint', 'TickData', 'TradeLogEntry', 'BracketOrder', 'ExecutionCondition', 'LimitOrder', 'MarginCondition', 'MarketOrder', 'Order', 'OrderComboLeg', 'OrderCondition', 'OrderState', 'OrderStatus', 'PercentChangeCondition', 'PriceCondition', 'StopLimitOrder', 'StopOrder', 'TimeCondition', 'Trade', 'VolumeCondition', 'Ticker', '__version__', '__version_info__', 'RequestError', 'Wrapper', 'StartupFetch', 'StartupFetchALL', 'StartupFetchNONE']\n"
     ]
    }
   ],
   "source": [
    "import ib_async\n",
    "print(ib_async.__all__)"
   ]
  },
  {
   "cell_type": "markdown",
   "metadata": {},
   "source": [
    "### Importing\n",
    "The following two lines are used at the top of all notebooks. The first line imports everything and the second\n",
    "starts an event loop to keep the notebook live updated:"
   ]
  },
  {
   "cell_type": "code",
   "execution_count": 2,
   "metadata": {},
   "outputs": [],
   "source": [
    "from ib_async import *\n",
    "from ib_async.order import LimitOrder\n",
    "from ibkr.broker.sim_ib import IBSim\n",
    "from ibkr.broker.sim_contract_sim import load_contract\n",
    "from ibkr.broker.sim_contract_sim import load_csv\n",
    "\n",
    "util.startLoop()"
   ]
  },
  {
   "cell_type": "markdown",
   "metadata": {},
   "source": [
    "*Note that startLoop() only works in notebooks, not in regular Python programs.*"
   ]
  },
  {
   "cell_type": "markdown",
   "metadata": {},
   "source": [
    "### Connecting\n",
    "The main player of the whole package is the \"IB\" class. Let's create an IB instance and connect to a running TWS/IBG application:"
   ]
  },
  {
   "cell_type": "code",
   "execution_count": 3,
   "metadata": {
    "scrolled": true
   },
   "outputs": [
    {
     "data": {
      "text/plain": [
       "<IB connected to 127.0.0.1:7497 clientId=10>"
      ]
     },
     "execution_count": 3,
     "metadata": {},
     "output_type": "execute_result"
    },
    {
     "name": "stderr",
     "output_type": "stream",
     "text": [
      "Error 478, reqId 37: Parameters in request conflicts with contract parameters received by contract id: requested expiry 20241221, in contract 20241220;\n",
      "Canceled order: Trade(contract=Future(conId=495512557, symbol='ES', lastTradeDateOrContractMonth='20241221', multiplier='50', exchange='CME', currency='USD', localSymbol='ESZ4', tradingClass='ES'), order=LimitOrder(orderId=37, clientId=10, action='BUY', totalQuantity=1, lmtPrice=5853.25), orderStatus=OrderStatus(orderId=37, status='Cancelled', filled=0.0, remaining=0.0, avgFillPrice=0.0, permId=0, parentId=0, lastFillPrice=0.0, clientId=0, whyHeld='', mktCapPrice=0.0), fills=[], log=[TradeLogEntry(time=datetime.datetime(2024, 10, 12, 5, 40, 23, 726348, tzinfo=datetime.timezone.utc), status='PendingSubmit', message='', errorCode=0), TradeLogEntry(time=datetime.datetime(2024, 10, 12, 5, 40, 23, 733034, tzinfo=datetime.timezone.utc), status='Cancelled', message='Error 478, reqId 37: Parameters in request conflicts with contract parameters received by contract id: requested expiry 20241221, in contract 20241220;', errorCode=478)], advancedError='')\n",
      "Peer closed connection.\n"
     ]
    }
   ],
   "source": [
    "ib = IB()\n",
    "ib.connect('127.0.0.1', 7497, clientId=10)"
   ]
  },
  {
   "cell_type": "code",
   "execution_count": 4,
   "metadata": {},
   "outputs": [
    {
     "data": {
      "text/plain": [
       "[AccountValue(account='DU1215439', tag='AccountType', value='INDIVIDUAL', currency='', modelCode=''),\n",
       " AccountValue(account='DU1215439', tag='Cushion', value='1', currency='', modelCode=''),\n",
       " AccountValue(account='DU1215439', tag='LookAheadNextChange', value='0', currency='', modelCode=''),\n",
       " AccountValue(account='DU1215439', tag='AccruedCash', value='81.21', currency='AUD', modelCode=''),\n",
       " AccountValue(account='DU1215439', tag='AvailableFunds', value='101425.97', currency='AUD', modelCode=''),\n",
       " AccountValue(account='DU1215439', tag='BuyingPower', value='101344.76', currency='AUD', modelCode=''),\n",
       " AccountValue(account='DU1215439', tag='EquityWithLoanValue', value='101425.97', currency='AUD', modelCode=''),\n",
       " AccountValue(account='DU1215439', tag='ExcessLiquidity', value='101425.97', currency='AUD', modelCode=''),\n",
       " AccountValue(account='DU1215439', tag='FullAvailableFunds', value='101425.97', currency='AUD', modelCode=''),\n",
       " AccountValue(account='DU1215439', tag='FullExcessLiquidity', value='101425.97', currency='AUD', modelCode=''),\n",
       " AccountValue(account='DU1215439', tag='FullInitMarginReq', value='0.00', currency='AUD', modelCode=''),\n",
       " AccountValue(account='DU1215439', tag='FullMaintMarginReq', value='0.00', currency='AUD', modelCode=''),\n",
       " AccountValue(account='DU1215439', tag='GrossPositionValue', value='0.00', currency='AUD', modelCode=''),\n",
       " AccountValue(account='DU1215439', tag='InitMarginReq', value='0.00', currency='AUD', modelCode=''),\n",
       " AccountValue(account='DU1215439', tag='LookAheadAvailableFunds', value='101425.97', currency='AUD', modelCode=''),\n",
       " AccountValue(account='DU1215439', tag='LookAheadExcessLiquidity', value='101425.97', currency='AUD', modelCode=''),\n",
       " AccountValue(account='DU1215439', tag='LookAheadInitMarginReq', value='0.00', currency='AUD', modelCode=''),\n",
       " AccountValue(account='DU1215439', tag='LookAheadMaintMarginReq', value='0.00', currency='AUD', modelCode=''),\n",
       " AccountValue(account='DU1215439', tag='MaintMarginReq', value='0.00', currency='AUD', modelCode=''),\n",
       " AccountValue(account='DU1215439', tag='NetLiquidation', value='101425.97', currency='AUD', modelCode=''),\n",
       " AccountValue(account='DU1215439', tag='TotalCashValue', value='101344.76', currency='AUD', modelCode=''),\n",
       " AccountValue(account='All', tag='Currency', value='AUD', currency='AUD', modelCode=''),\n",
       " AccountValue(account='All', tag='CashBalance', value='100844.40', currency='AUD', modelCode=''),\n",
       " AccountValue(account='All', tag='TotalCashBalance', value='100844.40', currency='AUD', modelCode=''),\n",
       " AccountValue(account='All', tag='AccruedCash', value='81.21', currency='AUD', modelCode=''),\n",
       " AccountValue(account='All', tag='StockMarketValue', value='0.00', currency='AUD', modelCode=''),\n",
       " AccountValue(account='All', tag='OptionMarketValue', value='0.00', currency='AUD', modelCode=''),\n",
       " AccountValue(account='All', tag='FutureOptionValue', value='0.00', currency='AUD', modelCode=''),\n",
       " AccountValue(account='All', tag='FuturesPNL', value='0.00', currency='AUD', modelCode=''),\n",
       " AccountValue(account='All', tag='NetLiquidationByCurrency', value='100925.61', currency='AUD', modelCode=''),\n",
       " AccountValue(account='All', tag='UnrealizedPnL', value='0.00', currency='AUD', modelCode=''),\n",
       " AccountValue(account='All', tag='RealizedPnL', value='0.00', currency='AUD', modelCode=''),\n",
       " AccountValue(account='All', tag='ExchangeRate', value='1.00', currency='AUD', modelCode=''),\n",
       " AccountValue(account='All', tag='FundValue', value='0.00', currency='AUD', modelCode=''),\n",
       " AccountValue(account='All', tag='NetDividend', value='0.00', currency='AUD', modelCode=''),\n",
       " AccountValue(account='All', tag='MutualFundValue', value='0.00', currency='AUD', modelCode=''),\n",
       " AccountValue(account='All', tag='MoneyMarketFundValue', value='0.00', currency='AUD', modelCode=''),\n",
       " AccountValue(account='All', tag='CorporateBondValue', value='0.00', currency='AUD', modelCode=''),\n",
       " AccountValue(account='All', tag='TBondValue', value='0.00', currency='AUD', modelCode=''),\n",
       " AccountValue(account='All', tag='TBillValue', value='0.00', currency='AUD', modelCode=''),\n",
       " AccountValue(account='All', tag='WarrantValue', value='0.00', currency='AUD', modelCode=''),\n",
       " AccountValue(account='All', tag='FxCashBalance', value='0.00', currency='AUD', modelCode=''),\n",
       " AccountValue(account='All', tag='AccountOrGroup', value='All', currency='AUD', modelCode=''),\n",
       " AccountValue(account='All', tag='RealCurrency', value='AUD', currency='AUD', modelCode=''),\n",
       " AccountValue(account='All', tag='IssuerOptionValue', value='0.00', currency='AUD', modelCode=''),\n",
       " AccountValue(account='All', tag='Cryptocurrency', value='0.00', currency='AUD', modelCode=''),\n",
       " AccountValue(account='All', tag='Currency', value='USD', currency='USD', modelCode=''),\n",
       " AccountValue(account='All', tag='CashBalance', value='337.76', currency='USD', modelCode=''),\n",
       " AccountValue(account='All', tag='TotalCashBalance', value='337.76', currency='USD', modelCode=''),\n",
       " AccountValue(account='All', tag='AccruedCash', value='0.00', currency='USD', modelCode=''),\n",
       " AccountValue(account='All', tag='StockMarketValue', value='0.00', currency='USD', modelCode=''),\n",
       " AccountValue(account='All', tag='OptionMarketValue', value='0.00', currency='USD', modelCode=''),\n",
       " AccountValue(account='All', tag='FutureOptionValue', value='0.00', currency='USD', modelCode=''),\n",
       " AccountValue(account='All', tag='FuturesPNL', value='0.00', currency='USD', modelCode=''),\n",
       " AccountValue(account='All', tag='NetLiquidationByCurrency', value='337.76', currency='USD', modelCode=''),\n",
       " AccountValue(account='All', tag='UnrealizedPnL', value='0.00', currency='USD', modelCode=''),\n",
       " AccountValue(account='All', tag='RealizedPnL', value='0.00', currency='USD', modelCode=''),\n",
       " AccountValue(account='All', tag='ExchangeRate', value='1.4813959', currency='USD', modelCode=''),\n",
       " AccountValue(account='All', tag='FundValue', value='0.00', currency='USD', modelCode=''),\n",
       " AccountValue(account='All', tag='NetDividend', value='0.00', currency='USD', modelCode=''),\n",
       " AccountValue(account='All', tag='MutualFundValue', value='0.00', currency='USD', modelCode=''),\n",
       " AccountValue(account='All', tag='MoneyMarketFundValue', value='0.00', currency='USD', modelCode=''),\n",
       " AccountValue(account='All', tag='CorporateBondValue', value='0.00', currency='USD', modelCode=''),\n",
       " AccountValue(account='All', tag='TBondValue', value='0.00', currency='USD', modelCode=''),\n",
       " AccountValue(account='All', tag='TBillValue', value='0.00', currency='USD', modelCode=''),\n",
       " AccountValue(account='All', tag='WarrantValue', value='0.00', currency='USD', modelCode=''),\n",
       " AccountValue(account='All', tag='FxCashBalance', value='0.00', currency='USD', modelCode=''),\n",
       " AccountValue(account='All', tag='AccountOrGroup', value='All', currency='USD', modelCode=''),\n",
       " AccountValue(account='All', tag='RealCurrency', value='USD', currency='USD', modelCode=''),\n",
       " AccountValue(account='All', tag='IssuerOptionValue', value='0.00', currency='USD', modelCode=''),\n",
       " AccountValue(account='All', tag='Cryptocurrency', value='0.00', currency='USD', modelCode=''),\n",
       " AccountValue(account='All', tag='Currency', value='BASE', currency='BASE', modelCode=''),\n",
       " AccountValue(account='All', tag='CashBalance', value='101344.7563', currency='BASE', modelCode=''),\n",
       " AccountValue(account='All', tag='TotalCashBalance', value='101344.7563', currency='BASE', modelCode=''),\n",
       " AccountValue(account='All', tag='AccruedCash', value='81.21', currency='BASE', modelCode=''),\n",
       " AccountValue(account='All', tag='StockMarketValue', value='0.00', currency='BASE', modelCode=''),\n",
       " AccountValue(account='All', tag='OptionMarketValue', value='0.00', currency='BASE', modelCode=''),\n",
       " AccountValue(account='All', tag='FutureOptionValue', value='0.00', currency='BASE', modelCode=''),\n",
       " AccountValue(account='All', tag='FuturesPNL', value='0.00', currency='BASE', modelCode=''),\n",
       " AccountValue(account='All', tag='NetLiquidationByCurrency', value='101425.9663', currency='BASE', modelCode=''),\n",
       " AccountValue(account='All', tag='UnrealizedPnL', value='0.00', currency='BASE', modelCode=''),\n",
       " AccountValue(account='All', tag='RealizedPnL', value='0.00', currency='BASE', modelCode=''),\n",
       " AccountValue(account='All', tag='ExchangeRate', value='1.00', currency='BASE', modelCode=''),\n",
       " AccountValue(account='All', tag='FundValue', value='0.00', currency='BASE', modelCode=''),\n",
       " AccountValue(account='All', tag='NetDividend', value='0.00', currency='BASE', modelCode=''),\n",
       " AccountValue(account='All', tag='MutualFundValue', value='0.00', currency='BASE', modelCode=''),\n",
       " AccountValue(account='All', tag='MoneyMarketFundValue', value='0.00', currency='BASE', modelCode=''),\n",
       " AccountValue(account='All', tag='CorporateBondValue', value='0.00', currency='BASE', modelCode=''),\n",
       " AccountValue(account='All', tag='TBondValue', value='0.00', currency='BASE', modelCode=''),\n",
       " AccountValue(account='All', tag='TBillValue', value='0.00', currency='BASE', modelCode=''),\n",
       " AccountValue(account='All', tag='WarrantValue', value='0.00', currency='BASE', modelCode=''),\n",
       " AccountValue(account='All', tag='FxCashBalance', value='0.00', currency='BASE', modelCode=''),\n",
       " AccountValue(account='All', tag='AccountOrGroup', value='All', currency='BASE', modelCode=''),\n",
       " AccountValue(account='All', tag='RealCurrency', value='BASE', currency='BASE', modelCode=''),\n",
       " AccountValue(account='All', tag='IssuerOptionValue', value='0.00', currency='BASE', modelCode=''),\n",
       " AccountValue(account='All', tag='Cryptocurrency', value='0.00', currency='BASE', modelCode='')]"
      ]
     },
     "execution_count": 4,
     "metadata": {},
     "output_type": "execute_result"
    }
   ],
   "source": [
    "ib.accountSummary()"
   ]
  },
  {
   "cell_type": "code",
   "execution_count": 5,
   "metadata": {},
   "outputs": [
    {
     "data": {
      "text/plain": [
       "[AccountValue(account='DU1215439', tag='AccountCode', value='DU1215439', currency='', modelCode=''),\n",
       " AccountValue(account='DU1215439', tag='AccountOrGroup', value='DU1215439', currency='AUD', modelCode=''),\n",
       " AccountValue(account='DU1215439', tag='AccountOrGroup', value='DU1215439', currency='BASE', modelCode=''),\n",
       " AccountValue(account='DU1215439', tag='AccountOrGroup', value='DU1215439', currency='USD', modelCode=''),\n",
       " AccountValue(account='DU1215439', tag='AccountReady', value='true', currency='', modelCode=''),\n",
       " AccountValue(account='DU1215439', tag='AccountType', value='INDIVIDUAL', currency='', modelCode=''),\n",
       " AccountValue(account='DU1215439', tag='AccruedCash', value='81.21', currency='AUD', modelCode=''),\n",
       " AccountValue(account='DU1215439', tag='AccruedCash', value='81.21', currency='BASE', modelCode=''),\n",
       " AccountValue(account='DU1215439', tag='AccruedCash', value='0.00', currency='USD', modelCode=''),\n",
       " AccountValue(account='DU1215439', tag='AccruedCash-P', value='0.00', currency='AUD', modelCode=''),\n",
       " AccountValue(account='DU1215439', tag='AccruedDividend', value='0.00', currency='AUD', modelCode=''),\n",
       " AccountValue(account='DU1215439', tag='AccruedDividend-P', value='0.00', currency='AUD', modelCode=''),\n",
       " AccountValue(account='DU1215439', tag='AvailableFunds', value='101425.97', currency='AUD', modelCode=''),\n",
       " AccountValue(account='DU1215439', tag='AvailableFunds-P', value='0.00', currency='AUD', modelCode=''),\n",
       " AccountValue(account='DU1215439', tag='Billable', value='0.00', currency='AUD', modelCode=''),\n",
       " AccountValue(account='DU1215439', tag='Billable-P', value='0.00', currency='AUD', modelCode=''),\n",
       " AccountValue(account='DU1215439', tag='BuyingPower', value='101344.76', currency='AUD', modelCode=''),\n",
       " AccountValue(account='DU1215439', tag='CashBalance', value='100844.40', currency='AUD', modelCode=''),\n",
       " AccountValue(account='DU1215439', tag='CashBalance', value='101344.7563', currency='BASE', modelCode=''),\n",
       " AccountValue(account='DU1215439', tag='CashBalance', value='337.76', currency='USD', modelCode=''),\n",
       " AccountValue(account='DU1215439', tag='ColumnPrio-P', value='5', currency='', modelCode=''),\n",
       " AccountValue(account='DU1215439', tag='ColumnPrio-S', value='1', currency='', modelCode=''),\n",
       " AccountValue(account='DU1215439', tag='CorporateBondValue', value='0.00', currency='AUD', modelCode=''),\n",
       " AccountValue(account='DU1215439', tag='CorporateBondValue', value='0.00', currency='BASE', modelCode=''),\n",
       " AccountValue(account='DU1215439', tag='CorporateBondValue', value='0.00', currency='USD', modelCode=''),\n",
       " AccountValue(account='DU1215439', tag='Cryptocurrency', value='0.00', currency='AUD', modelCode=''),\n",
       " AccountValue(account='DU1215439', tag='Cryptocurrency', value='0.00', currency='BASE', modelCode=''),\n",
       " AccountValue(account='DU1215439', tag='Cryptocurrency', value='0.00', currency='USD', modelCode=''),\n",
       " AccountValue(account='DU1215439', tag='Currency', value='AUD', currency='AUD', modelCode=''),\n",
       " AccountValue(account='DU1215439', tag='Currency', value='BASE', currency='BASE', modelCode=''),\n",
       " AccountValue(account='DU1215439', tag='Currency', value='USD', currency='USD', modelCode=''),\n",
       " AccountValue(account='DU1215439', tag='Cushion', value='1', currency='', modelCode=''),\n",
       " AccountValue(account='DU1215439', tag='EquityWithLoanValue', value='101425.97', currency='AUD', modelCode=''),\n",
       " AccountValue(account='DU1215439', tag='EquityWithLoanValue-P', value='0.00', currency='AUD', modelCode=''),\n",
       " AccountValue(account='DU1215439', tag='ExcessLiquidity', value='101425.97', currency='AUD', modelCode=''),\n",
       " AccountValue(account='DU1215439', tag='ExcessLiquidity-P', value='0.00', currency='AUD', modelCode=''),\n",
       " AccountValue(account='DU1215439', tag='ExchangeRate', value='1.00', currency='AUD', modelCode=''),\n",
       " AccountValue(account='DU1215439', tag='ExchangeRate', value='1.00', currency='BASE', modelCode=''),\n",
       " AccountValue(account='DU1215439', tag='ExchangeRate', value='1.4813959', currency='USD', modelCode=''),\n",
       " AccountValue(account='DU1215439', tag='FullAvailableFunds', value='101425.97', currency='AUD', modelCode=''),\n",
       " AccountValue(account='DU1215439', tag='FullAvailableFunds-P', value='0.00', currency='AUD', modelCode=''),\n",
       " AccountValue(account='DU1215439', tag='FullExcessLiquidity', value='101425.97', currency='AUD', modelCode=''),\n",
       " AccountValue(account='DU1215439', tag='FullExcessLiquidity-P', value='0.00', currency='AUD', modelCode=''),\n",
       " AccountValue(account='DU1215439', tag='FullInitMarginReq', value='0.00', currency='AUD', modelCode=''),\n",
       " AccountValue(account='DU1215439', tag='FullInitMarginReq-P', value='0.00', currency='AUD', modelCode=''),\n",
       " AccountValue(account='DU1215439', tag='FullMaintMarginReq', value='0.00', currency='AUD', modelCode=''),\n",
       " AccountValue(account='DU1215439', tag='FullMaintMarginReq-P', value='0.00', currency='AUD', modelCode=''),\n",
       " AccountValue(account='DU1215439', tag='FundValue', value='0.00', currency='AUD', modelCode=''),\n",
       " AccountValue(account='DU1215439', tag='FundValue', value='0.00', currency='BASE', modelCode=''),\n",
       " AccountValue(account='DU1215439', tag='FundValue', value='0.00', currency='USD', modelCode=''),\n",
       " AccountValue(account='DU1215439', tag='FutureOptionValue', value='0.00', currency='AUD', modelCode=''),\n",
       " AccountValue(account='DU1215439', tag='FutureOptionValue', value='0.00', currency='BASE', modelCode=''),\n",
       " AccountValue(account='DU1215439', tag='FutureOptionValue', value='0.00', currency='USD', modelCode=''),\n",
       " AccountValue(account='DU1215439', tag='FuturesPNL', value='0.00', currency='AUD', modelCode=''),\n",
       " AccountValue(account='DU1215439', tag='FuturesPNL', value='0.00', currency='BASE', modelCode=''),\n",
       " AccountValue(account='DU1215439', tag='FuturesPNL', value='0.00', currency='USD', modelCode=''),\n",
       " AccountValue(account='DU1215439', tag='FxCashBalance', value='0.00', currency='AUD', modelCode=''),\n",
       " AccountValue(account='DU1215439', tag='FxCashBalance', value='0.00', currency='BASE', modelCode=''),\n",
       " AccountValue(account='DU1215439', tag='FxCashBalance', value='0.00', currency='USD', modelCode=''),\n",
       " AccountValue(account='DU1215439', tag='GrossPositionValue', value='0.00', currency='AUD', modelCode=''),\n",
       " AccountValue(account='DU1215439', tag='Guarantee', value='0.00', currency='AUD', modelCode=''),\n",
       " AccountValue(account='DU1215439', tag='Guarantee-P', value='0.00', currency='AUD', modelCode=''),\n",
       " AccountValue(account='DU1215439', tag='IncentiveCoupons', value='0.00', currency='AUD', modelCode=''),\n",
       " AccountValue(account='DU1215439', tag='IncentiveCoupons-P', value='0.00', currency='AUD', modelCode=''),\n",
       " AccountValue(account='DU1215439', tag='IndianStockHaircut', value='0.00', currency='AUD', modelCode=''),\n",
       " AccountValue(account='DU1215439', tag='IndianStockHaircut-P', value='0.00', currency='AUD', modelCode=''),\n",
       " AccountValue(account='DU1215439', tag='InitMarginReq', value='0.00', currency='AUD', modelCode=''),\n",
       " AccountValue(account='DU1215439', tag='InitMarginReq-P', value='0.00', currency='AUD', modelCode=''),\n",
       " AccountValue(account='DU1215439', tag='IssuerOptionValue', value='0.00', currency='AUD', modelCode=''),\n",
       " AccountValue(account='DU1215439', tag='IssuerOptionValue', value='0.00', currency='BASE', modelCode=''),\n",
       " AccountValue(account='DU1215439', tag='IssuerOptionValue', value='0.00', currency='USD', modelCode=''),\n",
       " AccountValue(account='DU1215439', tag='Leverage-S', value='0.00', currency='', modelCode=''),\n",
       " AccountValue(account='DU1215439', tag='LookAheadAvailableFunds', value='101425.97', currency='AUD', modelCode=''),\n",
       " AccountValue(account='DU1215439', tag='LookAheadAvailableFunds-P', value='0.00', currency='AUD', modelCode=''),\n",
       " AccountValue(account='DU1215439', tag='LookAheadExcessLiquidity', value='101425.97', currency='AUD', modelCode=''),\n",
       " AccountValue(account='DU1215439', tag='LookAheadExcessLiquidity-P', value='0.00', currency='AUD', modelCode=''),\n",
       " AccountValue(account='DU1215439', tag='LookAheadInitMarginReq', value='0.00', currency='AUD', modelCode=''),\n",
       " AccountValue(account='DU1215439', tag='LookAheadInitMarginReq-P', value='0.00', currency='AUD', modelCode=''),\n",
       " AccountValue(account='DU1215439', tag='LookAheadMaintMarginReq', value='0.00', currency='AUD', modelCode=''),\n",
       " AccountValue(account='DU1215439', tag='LookAheadMaintMarginReq-P', value='0.00', currency='AUD', modelCode=''),\n",
       " AccountValue(account='DU1215439', tag='LookAheadNextChange', value='0', currency='', modelCode=''),\n",
       " AccountValue(account='DU1215439', tag='MaintMarginReq', value='0.00', currency='AUD', modelCode=''),\n",
       " AccountValue(account='DU1215439', tag='MaintMarginReq-P', value='0.00', currency='AUD', modelCode=''),\n",
       " AccountValue(account='DU1215439', tag='MoneyMarketFundValue', value='0.00', currency='AUD', modelCode=''),\n",
       " AccountValue(account='DU1215439', tag='MoneyMarketFundValue', value='0.00', currency='BASE', modelCode=''),\n",
       " AccountValue(account='DU1215439', tag='MoneyMarketFundValue', value='0.00', currency='USD', modelCode=''),\n",
       " AccountValue(account='DU1215439', tag='MutualFundValue', value='0.00', currency='AUD', modelCode=''),\n",
       " AccountValue(account='DU1215439', tag='MutualFundValue', value='0.00', currency='BASE', modelCode=''),\n",
       " AccountValue(account='DU1215439', tag='MutualFundValue', value='0.00', currency='USD', modelCode=''),\n",
       " AccountValue(account='DU1215439', tag='NLVAndMarginInReview', value='false', currency='', modelCode=''),\n",
       " AccountValue(account='DU1215439', tag='NetDividend', value='0.00', currency='AUD', modelCode=''),\n",
       " AccountValue(account='DU1215439', tag='NetDividend', value='0.00', currency='BASE', modelCode=''),\n",
       " AccountValue(account='DU1215439', tag='NetDividend', value='0.00', currency='USD', modelCode=''),\n",
       " AccountValue(account='DU1215439', tag='NetLiquidation', value='101425.97', currency='AUD', modelCode=''),\n",
       " AccountValue(account='DU1215439', tag='NetLiquidation-P', value='0.00', currency='AUD', modelCode=''),\n",
       " AccountValue(account='DU1215439', tag='NetLiquidationByCurrency', value='100925.61', currency='AUD', modelCode=''),\n",
       " AccountValue(account='DU1215439', tag='NetLiquidationByCurrency', value='101425.9663', currency='BASE', modelCode=''),\n",
       " AccountValue(account='DU1215439', tag='NetLiquidationByCurrency', value='337.76', currency='USD', modelCode=''),\n",
       " AccountValue(account='DU1215439', tag='NetLiquidationUncertainty', value='0.00', currency='AUD', modelCode=''),\n",
       " AccountValue(account='DU1215439', tag='OptionMarketValue', value='0.00', currency='AUD', modelCode=''),\n",
       " AccountValue(account='DU1215439', tag='OptionMarketValue', value='0.00', currency='BASE', modelCode=''),\n",
       " AccountValue(account='DU1215439', tag='OptionMarketValue', value='0.00', currency='USD', modelCode=''),\n",
       " AccountValue(account='DU1215439', tag='PASharesValue', value='0.00', currency='AUD', modelCode=''),\n",
       " AccountValue(account='DU1215439', tag='PASharesValue-P', value='0.00', currency='AUD', modelCode=''),\n",
       " AccountValue(account='DU1215439', tag='PhysicalCertificateValue', value='0.00', currency='AUD', modelCode=''),\n",
       " AccountValue(account='DU1215439', tag='PhysicalCertificateValue-P', value='0.00', currency='AUD', modelCode=''),\n",
       " AccountValue(account='DU1215439', tag='PostExpirationExcess', value='0.00', currency='AUD', modelCode=''),\n",
       " AccountValue(account='DU1215439', tag='PostExpirationExcess-P', value='0.00', currency='AUD', modelCode=''),\n",
       " AccountValue(account='DU1215439', tag='PostExpirationMargin', value='0.00', currency='AUD', modelCode=''),\n",
       " AccountValue(account='DU1215439', tag='PostExpirationMargin-P', value='0.00', currency='AUD', modelCode=''),\n",
       " AccountValue(account='DU1215439', tag='RealCurrency', value='AUD', currency='AUD', modelCode=''),\n",
       " AccountValue(account='DU1215439', tag='RealCurrency', value='BASE', currency='BASE', modelCode=''),\n",
       " AccountValue(account='DU1215439', tag='RealCurrency', value='USD', currency='USD', modelCode=''),\n",
       " AccountValue(account='DU1215439', tag='RealizedPnL', value='0.00', currency='AUD', modelCode=''),\n",
       " AccountValue(account='DU1215439', tag='RealizedPnL', value='0.00', currency='BASE', modelCode=''),\n",
       " AccountValue(account='DU1215439', tag='RealizedPnL', value='0.00', currency='USD', modelCode=''),\n",
       " AccountValue(account='DU1215439', tag='SegmentTitle-P', value='Crypto at Paxos', currency='', modelCode=''),\n",
       " AccountValue(account='DU1215439', tag='SegmentTitle-S', value='CFD', currency='', modelCode=''),\n",
       " AccountValue(account='DU1215439', tag='StockMarketValue', value='0.00', currency='AUD', modelCode=''),\n",
       " AccountValue(account='DU1215439', tag='StockMarketValue', value='0.00', currency='BASE', modelCode=''),\n",
       " AccountValue(account='DU1215439', tag='StockMarketValue', value='0.00', currency='USD', modelCode=''),\n",
       " AccountValue(account='DU1215439', tag='TBillValue', value='0.00', currency='AUD', modelCode=''),\n",
       " AccountValue(account='DU1215439', tag='TBillValue', value='0.00', currency='BASE', modelCode=''),\n",
       " AccountValue(account='DU1215439', tag='TBillValue', value='0.00', currency='USD', modelCode=''),\n",
       " AccountValue(account='DU1215439', tag='TBondValue', value='0.00', currency='AUD', modelCode=''),\n",
       " AccountValue(account='DU1215439', tag='TBondValue', value='0.00', currency='BASE', modelCode=''),\n",
       " AccountValue(account='DU1215439', tag='TBondValue', value='0.00', currency='USD', modelCode=''),\n",
       " AccountValue(account='DU1215439', tag='TotalCashBalance', value='100844.40', currency='AUD', modelCode=''),\n",
       " AccountValue(account='DU1215439', tag='TotalCashBalance', value='101344.7563', currency='BASE', modelCode=''),\n",
       " AccountValue(account='DU1215439', tag='TotalCashBalance', value='337.76', currency='USD', modelCode=''),\n",
       " AccountValue(account='DU1215439', tag='TotalCashValue', value='101344.76', currency='AUD', modelCode=''),\n",
       " AccountValue(account='DU1215439', tag='TotalCashValue-P', value='0.00', currency='AUD', modelCode=''),\n",
       " AccountValue(account='DU1215439', tag='TotalDebitCardPendingCharges', value='0.00', currency='AUD', modelCode=''),\n",
       " AccountValue(account='DU1215439', tag='TotalDebitCardPendingCharges-P', value='0.00', currency='AUD', modelCode=''),\n",
       " AccountValue(account='DU1215439', tag='TradingType-S', value='STKCASH', currency='', modelCode=''),\n",
       " AccountValue(account='DU1215439', tag='UnrealizedPnL', value='0.00', currency='AUD', modelCode=''),\n",
       " AccountValue(account='DU1215439', tag='UnrealizedPnL', value='0.00', currency='BASE', modelCode=''),\n",
       " AccountValue(account='DU1215439', tag='UnrealizedPnL', value='0.00', currency='USD', modelCode=''),\n",
       " AccountValue(account='DU1215439', tag='WarrantValue', value='0.00', currency='AUD', modelCode=''),\n",
       " AccountValue(account='DU1215439', tag='WarrantValue', value='0.00', currency='BASE', modelCode=''),\n",
       " AccountValue(account='DU1215439', tag='WarrantValue', value='0.00', currency='USD', modelCode='')]"
      ]
     },
     "execution_count": 5,
     "metadata": {},
     "output_type": "execute_result"
    }
   ],
   "source": [
    "ib.accountValues()"
   ]
  },
  {
   "cell_type": "code",
   "execution_count": 6,
   "metadata": {},
   "outputs": [
    {
     "data": {
      "text/plain": [
       "[AccountValue(account='DU1215439', tag='NetLiquidationByCurrency', value='101425.9663', currency='BASE', modelCode='')]"
      ]
     },
     "execution_count": 6,
     "metadata": {},
     "output_type": "execute_result"
    }
   ],
   "source": [
    "[v for v in ib.accountValues() if v.tag == 'NetLiquidationByCurrency' and v.currency == 'BASE']"
   ]
  },
  {
   "cell_type": "markdown",
   "metadata": {},
   "source": [
    "### Contracts\n",
    "\n",
    "Contracts can be specified in different ways:\n",
    "* The ibapi way, by creating an empty Contract object and setting its attributes one by one;\n",
    "* By using Contract and giving the attributes as keyword argument;\n",
    "* By using the specialized Stock, Option, Future, Forex, Index, CFD, Commodity,\n",
    "  Bond, FuturesOption, MutualFund or Warrant contracts.\n",
    "\n",
    "Some examples:"
   ]
  },
  {
   "cell_type": "code",
   "execution_count": 7,
   "metadata": {},
   "outputs": [
    {
     "data": {
      "text/plain": [
       "Future(conId=495512557, symbol='ES', lastTradeDateOrContractMonth='20241221', multiplier='50', exchange='CME', currency='USD', localSymbol='ESZ4', tradingClass='ES')"
      ]
     },
     "execution_count": 7,
     "metadata": {},
     "output_type": "execute_result"
    }
   ],
   "source": [
    "# contract = load_contract('ES')\n",
    "contract = Future(symbol='ES', lastTradeDateOrContractMonth='202412', exchange='CME')\n",
    "ib.qualifyContracts(contract)\n",
    "contract"
   ]
  },
  {
   "cell_type": "code",
   "execution_count": 15,
   "metadata": {},
   "outputs": [
    {
     "data": {
      "text/plain": [
       "[ContractDetails(contract=Contract(secType='FUT', conId=495512557, symbol='ES', lastTradeDateOrContractMonth='20241221', multiplier='50', exchange='CME', currency='USD', localSymbol='ESZ4', tradingClass='ES'), marketName='ES', minTick=0.25, orderTypes='ACTIVETIM,AD,ADJUST,ALERT,ALGO,ALLOC,AVGCOST,BASKET,BENCHPX,COND,CONDORDER,DAY,DEACT,DEACTDIS,DEACTEOD,GAT,GTC,GTD,GTT,HID,ICE,IOC,LIT,LMT,LTH,MIT,MKT,MTL,NGCOMB,NONALGO,OCA,PEGBENCH,SCALE,SCALERST,SNAPMID,SNAPMKT,SNAPREL,STP,STPLMT,TRAIL,TRAILLIT,TRAILLMT,TRAILMIT,WHATIF', validExchanges='CME,QBALGO', priceMagnifier=1, underConId=11004968, longName='E-mini S&P 500', contractMonth='202412', industry='', category='', subcategory='', timeZoneId='Australia/Melbourne', tradingHours='20241012:CLOSED;20241013:1700-20241014:1600;20241014:1700-20241015:1600;20241015:1700-20241016:1600;20241016:1700-20241017:1600;20241017:1700-20241018:1600', liquidHours='20241012:CLOSED;20241013:CLOSED;20241014:0830-20241014:1600;20241015:0830-20241015:1600;20241016:0830-20241016:1600;20241017:0830-20241017:1600;20241017:1700-20241018:1600', evRule='', evMultiplier=0, mdSizeMultiplier=1, aggGroup=2147483647, underSymbol='ES', underSecType='IND', marketRuleIds='67,67', secIdList=[], realExpirationDate='20241220', lastTradeTime='01:30:00', stockType='', minSize=1.0, sizeIncrement=1.0, suggestedSizeIncrement=1.0, cusip='', ratings='', descAppend='', bondType='', couponType='', callable=False, putable=False, coupon=0, convertible=False, maturity='', issueDate='', nextOptionDate='', nextOptionType='', nextOptionPartial=False, notes='')]"
      ]
     },
     "execution_count": 15,
     "metadata": {},
     "output_type": "execute_result"
    }
   ],
   "source": [
    "cds = ib.reqContractDetails(contract)\n",
    "cds"
   ]
  },
  {
   "cell_type": "code",
   "execution_count": 9,
   "metadata": {},
   "outputs": [
    {
     "data": {
      "text/plain": [
       "[Contract(secType='FUT', conId=495512557, symbol='ES', lastTradeDateOrContractMonth='20241221', multiplier='50', exchange='CME', currency='USD', localSymbol='ESZ4', tradingClass='ES')]"
      ]
     },
     "execution_count": 9,
     "metadata": {},
     "output_type": "execute_result"
    }
   ],
   "source": [
    "contracts = [cd.contract for cd in cds]\n",
    "\n",
    "contracts"
   ]
  },
  {
   "cell_type": "markdown",
   "metadata": {},
   "source": []
  },
  {
   "cell_type": "code",
   "execution_count": 10,
   "metadata": {},
   "outputs": [
    {
     "data": {
      "text/plain": [
       "datetime.datetime(2021, 8, 11, 22, 0)"
      ]
     },
     "execution_count": 10,
     "metadata": {},
     "output_type": "execute_result"
    }
   ],
   "source": [
    "ib.reqHeadTimeStamp(contract, whatToShow='TRADES', useRTH=True)"
   ]
  },
  {
   "cell_type": "markdown",
   "metadata": {},
   "source": [
    "Create a contract and a market order:"
   ]
  },
  {
   "cell_type": "code",
   "execution_count": 11,
   "metadata": {},
   "outputs": [],
   "source": [
    "order = LimitOrder('BUY', 1, 5853.25)"
   ]
  },
  {
   "cell_type": "code",
   "execution_count": 12,
   "metadata": {},
   "outputs": [],
   "source": [
    "trade = ib.placeOrder(contract, order)"
   ]
  },
  {
   "cell_type": "code",
   "execution_count": 13,
   "metadata": {},
   "outputs": [
    {
     "data": {
      "text/plain": [
       "[TradeLogEntry(time=datetime.datetime(2024, 10, 12, 5, 40, 23, 726348, tzinfo=datetime.timezone.utc), status='PendingSubmit', message='', errorCode=0),\n",
       " TradeLogEntry(time=datetime.datetime(2024, 10, 12, 5, 40, 23, 733034, tzinfo=datetime.timezone.utc), status='Cancelled', message='Error 478, reqId 37: Parameters in request conflicts with contract parameters received by contract id: requested expiry 20241221, in contract 20241220;', errorCode=478)]"
      ]
     },
     "execution_count": 13,
     "metadata": {},
     "output_type": "execute_result"
    }
   ],
   "source": [
    "ib.sleep(1)\n",
    "trade.log"
   ]
  },
  {
   "cell_type": "code",
   "execution_count": 14,
   "metadata": {},
   "outputs": [
    {
     "data": {
      "text/plain": [
       "[]"
      ]
     },
     "execution_count": 14,
     "metadata": {},
     "output_type": "execute_result"
    }
   ],
   "source": [
    "ib.openOrders()"
   ]
  },
  {
   "cell_type": "code",
   "execution_count": 44,
   "metadata": {},
   "outputs": [
    {
     "data": {
      "text/plain": [
       "True"
      ]
     },
     "execution_count": 44,
     "metadata": {},
     "output_type": "execute_result"
    }
   ],
   "source": [
    "trade.isDone()"
   ]
  },
  {
   "cell_type": "code",
   "execution_count": 45,
   "metadata": {},
   "outputs": [
    {
     "data": {
      "text/plain": [
       "[]"
      ]
     },
     "execution_count": 45,
     "metadata": {},
     "output_type": "execute_result"
    }
   ],
   "source": [
    "ib.positions()"
   ]
  },
  {
   "cell_type": "code",
   "execution_count": 20,
   "metadata": {},
   "outputs": [
    {
     "data": {
      "text/plain": [
       "Future(symbol='ES', exchange='GLOBEX')"
      ]
     },
     "execution_count": 20,
     "metadata": {},
     "output_type": "execute_result"
    }
   ],
   "source": [
    "contract"
   ]
  },
  {
   "cell_type": "code",
   "execution_count": 7,
   "metadata": {},
   "outputs": [
    {
     "data": {
      "text/plain": [
       "[]"
      ]
     },
     "execution_count": 7,
     "metadata": {},
     "output_type": "execute_result"
    }
   ],
   "source": [
    "ib.trades()"
   ]
  },
  {
   "cell_type": "code",
   "execution_count": 8,
   "metadata": {},
   "outputs": [
    {
     "data": {
      "text/plain": [
       "[]"
      ]
     },
     "execution_count": 8,
     "metadata": {},
     "output_type": "execute_result"
    }
   ],
   "source": [
    "ib.openTrades()"
   ]
  },
  {
   "cell_type": "code",
   "execution_count": 9,
   "metadata": {},
   "outputs": [
    {
     "data": {
      "text/plain": [
       "[]"
      ]
     },
     "execution_count": 9,
     "metadata": {},
     "output_type": "execute_result"
    }
   ],
   "source": [
    "ib.fills()"
   ]
  },
  {
   "cell_type": "code",
   "execution_count": 10,
   "metadata": {},
   "outputs": [
    {
     "data": {
      "text/plain": [
       "[]"
      ]
     },
     "execution_count": 10,
     "metadata": {},
     "output_type": "execute_result"
    }
   ],
   "source": [
    "ib.reqOpenOrders()"
   ]
  },
  {
   "cell_type": "code",
   "execution_count": 11,
   "metadata": {},
   "outputs": [
    {
     "data": {
      "text/plain": [
       "[]"
      ]
     },
     "execution_count": 11,
     "metadata": {},
     "output_type": "execute_result"
    }
   ],
   "source": [
    "ib.reqAllOpenOrders()"
   ]
  },
  {
   "cell_type": "code",
   "execution_count": 13,
   "metadata": {},
   "outputs": [
    {
     "data": {
      "text/plain": [
       "[]"
      ]
     },
     "execution_count": 13,
     "metadata": {},
     "output_type": "execute_result"
    }
   ],
   "source": [
    "ib.reqCompletedOrders(apiOnly=True)"
   ]
  },
  {
   "cell_type": "code",
   "execution_count": 6,
   "metadata": {},
   "outputs": [],
   "source": [
    "for order in ib.orders():\n",
    "    ib.cancelOrder(order)\n"
   ]
  },
  {
   "cell_type": "code",
   "execution_count": null,
   "metadata": {},
   "outputs": [],
   "source": []
  }
 ],
 "metadata": {
  "kernelspec": {
   "display_name": "ibkr-sim",
   "language": "python",
   "name": "python3"
  },
  "language_info": {
   "codemirror_mode": {
    "name": "ipython",
    "version": 3
   },
   "file_extension": ".py",
   "mimetype": "text/x-python",
   "name": "python",
   "nbconvert_exporter": "python",
   "pygments_lexer": "ipython3",
   "version": "3.12.3"
  }
 },
 "nbformat": 4,
 "nbformat_minor": 4
}
